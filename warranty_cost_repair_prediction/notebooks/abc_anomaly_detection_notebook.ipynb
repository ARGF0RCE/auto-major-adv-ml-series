{
 "cells": [
  {
   "cell_type": "markdown",
   "metadata": {},
   "source": [
    "# Anomaly Detection for ABC Automotive Warranty Data\n",
    "\n",
    "## Problem Statement and Business Context\n",
    "\n",
    "### What is Anomaly Detection?\n",
    "Anomaly detection is the identification of unusual patterns or data points that deviate significantly from the expected normal behavior in a dataset. These anomalies may indicate:\n",
    "- **System failures** or defects\n",
    "- **Fraudulent activities** \n",
    "- **Quality control issues**\n",
    "- **Process inefficiencies**\n",
    "- **Potential risks** requiring immediate attention\n",
    "\n",
    "### Business Problem: ABC Automotive Warranty Cost Management\n",
    "\n",
    "ABC Automotive faces significant challenges in managing warranty costs and identifying high-risk vehicles that may lead to expensive claims. Traditional reactive approaches result in:\n",
    "\n",
    "**Current Pain Points:**\n",
    "- **Unexpected warranty costs** consuming 15-20% of revenue\n",
    "- **Late detection** of problematic vehicles leading to customer dissatisfaction\n",
    "- **Manual inspection** processes that miss critical patterns\n",
    "- **Reactive maintenance** instead of proactive intervention\n",
    "- **Limited insight** into root causes of expensive claims\n",
    "\n",
    "**Business Objectives:**\n",
    "Through anomaly detection, ABC Automotive aims to:\n",
    "\n",
    "1. **Early Warning System**: Identify vehicles showing unusual patterns before costly failures occur\n",
    "2. **Cost Optimization**: Reduce warranty costs by 25-30% through proactive intervention\n",
    "3. **Quality Assurance**: Detect manufacturing defects and design issues early\n",
    "4. **Customer Satisfaction**: Prevent breakdowns and improve vehicle reliability\n",
    "5. **Operational Efficiency**: Optimize maintenance schedules and resource allocation\n",
    "\n",
    "### What We Can Achieve with Anomaly Detection\n",
    "\n",
    "**Immediate Benefits:**\n",
    "- **Risk Identification**: Flag vehicles with unusual behavior patterns\n",
    "- **Cost Prediction**: Identify potential high-cost warranty claims\n",
    "- **Preventive Maintenance**: Schedule interventions before failures occur\n",
    "- **Quality Control**: Detect systematic issues in vehicle segments\n",
    "\n",
    "**Long-term Value:**\n",
    "- **Data-Driven Insights**: Understand relationships between vehicle features and warranty costs\n",
    "- **Process Improvement**: Optimize manufacturing and design processes\n",
    "- **Competitive Advantage**: Improve vehicle reliability and customer trust\n",
    "- **Financial Planning**: Better budget allocation for warranty reserves\n",
    "\n",
    "## Session Overview\n",
    "Building on our clustering analysis, we now explore **anomaly detection** - identifying unusual patterns that deviate from normal behavior in warranty data.\n",
    "\n",
    "## Learning Objectives\n",
    "1. Understand different types of anomalies and their business implications\n",
    "2. Apply various anomaly detection algorithms using PyOD library\n",
    "3. Evaluate and compare detection performance using appropriate metrics (F1-Score, Balanced Accuracy)\n",
    "4. Distinguish between outliers and anomalies in multivariate contexts\n",
    "5. Interpret results for actionable business insights\n",
    "6. Implement semi-supervised learning approaches for enhanced detection\n",
    "\n",
    "## Why Anomaly Detection Matters for Automotive Industry\n",
    "- **Fraud Prevention**: Identify potentially fraudulent warranty claims\n",
    "- **Quality Control**: Detect manufacturing defects early in the lifecycle\n",
    "- **Predictive Maintenance**: Flag vehicles requiring immediate attention\n",
    "- **Cost Optimization**: Prevent high-cost failures before they occur\n",
    "- **Customer Safety**: Ensure vehicle reliability and prevent dangerous failures\n",
    "\n",
    "---"
   ]
  },
  {
   "cell_type": "markdown",
   "metadata": {},
   "source": [
    "## 1. Environment Setup and Library Installation"
   ]
  },
  {
   "cell_type": "code",
   "execution_count": 47,
   "metadata": {},
   "outputs": [],
   "source": [
    "# Install PyOD library for anomaly detection (Google Colab)\n",
    "!pip install -q pyod\n",
    "!pip install -q pandas numpy scikit-learn matplotlib seaborn plotly"
   ]
  },
  {
   "cell_type": "code",
   "execution_count": 48,
   "metadata": {},
   "outputs": [
    {
     "name": "stdout",
     "output_type": "stream",
     "text": [
      "✅ Libraries imported successfully!\n",
      "📚 PyOD library installed and ready for anomaly detection\n"
     ]
    }
   ],
   "source": [
    "# Import necessary libraries\n",
    "import pandas as pd\n",
    "import numpy as np\n",
    "import matplotlib.pyplot as plt\n",
    "import seaborn as sns\n",
    "import plotly.express as px\n",
    "import plotly.graph_objects as go\n",
    "from plotly.subplots import make_subplots\n",
    "\n",
    "# Preprocessing\n",
    "from sklearn.preprocessing import StandardScaler, LabelEncoder\n",
    "from sklearn.decomposition import PCA\n",
    "from sklearn.model_selection import train_test_split\n",
    "\n",
    "# Metrics\n",
    "from sklearn.metrics import (\n",
    "    classification_report, confusion_matrix, \n",
    "    f1_score, balanced_accuracy_score,\n",
    "    roc_auc_score, roc_curve, precision_recall_curve\n",
    ")\n",
    "\n",
    "# PyOD imports - we'll add specific algorithms as we use them\n",
    "import warnings\n",
    "warnings.filterwarnings('ignore')\n",
    "\n",
    "# Display settings\n",
    "pd.set_option('display.max_columns', None)\n",
    "pd.set_option('display.float_format', lambda x: '%.2f' % x)\n",
    "plt.style.use('seaborn-v0_8-darkgrid')\n",
    "sns.set_palette(\"husl\")\n",
    "\n",
    "print(\"✅ Libraries imported successfully!\")\n",
    "print(\"📚 PyOD library installed and ready for anomaly detection\")"
   ]
  },
  {
   "cell_type": "markdown",
   "metadata": {},
   "source": [
    "## 2. PyOD Library Overview\n",
    "\n",
    "**PyOD** (Python Outlier Detection) is a comprehensive Python library for detecting outliers in multivariate data.\n",
    "\n",
    "Let's explore the most commonly used algorithms:"
   ]
  },
  {
   "cell_type": "markdown",
   "metadata": {},
   "source": [
    "## Understanding Outliers vs Anomalies\n",
    "\n",
    "Before we dive into detection algorithms, it's crucial to understand the subtle but important distinction between **outliers** and **anomalies**:\n",
    "\n",
    "### Outliers\n",
    "- **Definition**: Data points that lie isolated from the rest of the samples\n",
    "- **Characteristics**: \n",
    "  - Always **spatially separated** from normal data\n",
    "  - Can be detected using **statistical methods** (IQR, Z-score)\n",
    "  - Often represent **measurement errors** or **extreme but valid** observations\n",
    "- **Example**: A vehicle with unusually high mileage but otherwise normal behavior\n",
    "\n",
    "### Anomalies \n",
    "- **Definition**: Data points that exhibit **unusual or unexpected patterns** that differ from normal behavior\n",
    "- **Characteristics**: \n",
    "  - **May not always be isolated** spatially\n",
    "  - Defined by **multivariate patterns** and relationships\n",
    "  - Often represent **system failures**, **process changes**, or **significant events**\n",
    "  - Require **multivariate analysis** to detect\n",
    "- **Example**: A vehicle with normal individual features but an unusual combination (e.g., low mileage + high repair costs + recent model)\n",
    "\n",
    "### Key Insight for Our Dataset\n",
    "In our warranty data, we focus on **anomaly detection** because:\n",
    "- We're looking for **unusual patterns** in vehicle behavior that predict high warranty costs\n",
    "- Spatial isolation alone doesn't capture complex relationships between features\n",
    "- **Business context matters** - a \"normal\" data point statistically might be anomalous from a business perspective\n",
    "\n",
    "**Note**: Our synthetic dataset contains clear anomalies with both spatial and pattern-based characteristics, making it excellent for learning various detection techniques.\n",
    "\n",
    "---"
   ]
  },
  {
   "cell_type": "code",
   "execution_count": 49,
   "metadata": {},
   "outputs": [
    {
     "name": "stdout",
     "output_type": "stream",
     "text": [
      "🔍 PyOD Algorithm Reference Guide\n",
      "================================================================================\n",
      "\n",
      "📌 KNN (Proximity-Based)\n",
      "   → K-Nearest Neighbors - Detects outliers based on distance to k nearest neighbors\n",
      "\n",
      "📌 LOF (Proximity-Based)\n",
      "   → Local Outlier Factor - Identifies outliers by comparing local density\n",
      "\n",
      "📌 IForest (Ensemble)\n",
      "   → Isolation Forest - Isolates anomalies using random decision trees\n",
      "\n",
      "📌 OCSVM (Boundary-Based)\n",
      "   → One-Class SVM - Learns a boundary around normal data points\n",
      "\n",
      "📌 PCA (Linear Model)\n",
      "   → Principal Component Analysis - Detects outliers in PCA subspace\n",
      "\n",
      "📌 MCD (Statistical)\n",
      "   → Minimum Covariance Determinant - Robust covariance estimation\n",
      "\n",
      "📌 CBLOF (Clustering-Based)\n",
      "   → Cluster-Based LOF - Combines clustering with outlier detection\n",
      "\n",
      "📌 HBOS (Statistical)\n",
      "   → Histogram-Based Outlier Score - Fast detection using histograms\n",
      "\n",
      "📌 ECOD (Statistical)\n",
      "   → Empirical Cumulative Distribution - Unsupervised outlier detection\n",
      "\n",
      "📌 COPOD (Statistical)\n",
      "   → Copula-Based Outlier Detection - Parameter-free, interpretable detection\n"
     ]
    }
   ],
   "source": [
    "# PyOD Common Algorithms Reference\n",
    "pyod_algorithms = pd.DataFrame([\n",
    "    {'Algorithm': 'KNN', 'Type': 'Proximity-Based', \n",
    "     'Description': 'K-Nearest Neighbors - Detects outliers based on distance to k nearest neighbors'},\n",
    "    \n",
    "    {'Algorithm': 'LOF', 'Type': 'Proximity-Based', \n",
    "     'Description': 'Local Outlier Factor - Identifies outliers by comparing local density'},\n",
    "    \n",
    "    {'Algorithm': 'IForest', 'Type': 'Ensemble', \n",
    "     'Description': 'Isolation Forest - Isolates anomalies using random decision trees'},\n",
    "    \n",
    "    {'Algorithm': 'OCSVM', 'Type': 'Boundary-Based', \n",
    "     'Description': 'One-Class SVM - Learns a boundary around normal data points'},\n",
    "    \n",
    "    {'Algorithm': 'PCA', 'Type': 'Linear Model', \n",
    "     'Description': 'Principal Component Analysis - Detects outliers in PCA subspace'},\n",
    "    \n",
    "    {'Algorithm': 'MCD', 'Type': 'Statistical', \n",
    "     'Description': 'Minimum Covariance Determinant - Robust covariance estimation'},\n",
    "    \n",
    "    {'Algorithm': 'CBLOF', 'Type': 'Clustering-Based', \n",
    "     'Description': 'Cluster-Based LOF - Combines clustering with outlier detection'},\n",
    "    \n",
    "    {'Algorithm': 'HBOS', 'Type': 'Statistical', \n",
    "     'Description': 'Histogram-Based Outlier Score - Fast detection using histograms'},\n",
    "    \n",
    "    {'Algorithm': 'ECOD', 'Type': 'Statistical', \n",
    "     'Description': 'Empirical Cumulative Distribution - Unsupervised outlier detection'},\n",
    "    \n",
    "    {'Algorithm': 'COPOD', 'Type': 'Statistical', \n",
    "     'Description': 'Copula-Based Outlier Detection - Parameter-free, interpretable detection'}\n",
    "])\n",
    "\n",
    "print(\"🔍 PyOD Algorithm Reference Guide\")\n",
    "print(\"=\"*80)\n",
    "for _, row in pyod_algorithms.iterrows():\n",
    "    print(f\"\\n📌 {row['Algorithm']} ({row['Type']})\")\n",
    "    print(f\"   → {row['Description']}\")"
   ]
  },
  {
   "cell_type": "markdown",
   "metadata": {},
   "source": [
    "## 3. Generate and Load the Anomaly Dataset\n",
    "\n",
    "Let's start by generating our synthetic warranty data with intentional anomalies."
   ]
  },
  {
   "cell_type": "code",
   "execution_count": null,
   "metadata": {},
   "outputs": [
    {
     "name": "stdout",
     "output_type": "stream",
     "text": [
      "\n",
      "📊 Dataset Shape: (10000, 28)\n",
      "\n",
      "🎯 Target Distribution:\n",
      "is_anomaly\n",
      "0    9500\n",
      "1     500\n",
      "Name: count, dtype: int64\n",
      "\n",
      "Anomaly Rate: 5.0%\n"
     ]
    }
   ],
   "source": [
    "df = pd.read_csv(\"./abc_warranty_anomaly_data.csv\") # NOTE: Change the path to the approriate location of your dataset, whether on Colab or locally.\n",
    "\n",
    "print(f\"\\n📊 Dataset Shape: {df.shape}\")\n",
    "print(f\"\\n🎯 Target Distribution:\")\n",
    "print(df['is_anomaly'].value_counts())\n",
    "print(f\"\\nAnomaly Rate: {df['is_anomaly'].mean():.1%}\")"
   ]
  },
  {
   "cell_type": "markdown",
   "metadata": {},
   "source": [
    "## 4. Initial Data Exploration\n",
    "\n",
    "Let's explore our data to understand the patterns before detecting anomalies."
   ]
  },
  {
   "cell_type": "code",
   "execution_count": 51,
   "metadata": {},
   "outputs": [
    {
     "name": "stdout",
     "output_type": "stream",
     "text": [
      "📋 Dataset Info:\n",
      "==================================================\n",
      "Total samples: 10,000\n",
      "Features: 25\n",
      "\n",
      "First few records:\n"
     ]
    },
    {
     "data": {
      "application/vnd.microsoft.datawrangler.viewer.v0+json": {
       "columns": [
        {
         "name": "index",
         "rawType": "int64",
         "type": "integer"
        },
        {
         "name": "vehicle_id",
         "rawType": "object",
         "type": "string"
        },
        {
         "name": "vehicle_type",
         "rawType": "object",
         "type": "string"
        },
        {
         "name": "fuel_type",
         "rawType": "object",
         "type": "string"
        },
        {
         "name": "transmission_type",
         "rawType": "object",
         "type": "string"
        },
        {
         "name": "manufacturing_year",
         "rawType": "int64",
         "type": "integer"
        },
        {
         "name": "vehicle_age_months",
         "rawType": "float64",
         "type": "float"
        },
        {
         "name": "current_mileage",
         "rawType": "float64",
         "type": "float"
        },
        {
         "name": "services_completed",
         "rawType": "int64",
         "type": "integer"
        },
        {
         "name": "days_since_last_service",
         "rawType": "float64",
         "type": "float"
        },
        {
         "name": "region",
         "rawType": "object",
         "type": "string"
        },
        {
         "name": "avg_daily_runtime_hours",
         "rawType": "float64",
         "type": "float"
        },
        {
         "name": "avg_speed_kmph",
         "rawType": "float64",
         "type": "float"
        },
        {
         "name": "harsh_acceleration_count",
         "rawType": "int64",
         "type": "integer"
        },
        {
         "name": "harsh_braking_count",
         "rawType": "int64",
         "type": "integer"
        },
        {
         "name": "engine_risk_score",
         "rawType": "float64",
         "type": "float"
        },
        {
         "name": "transmission_risk_score",
         "rawType": "float64",
         "type": "float"
        },
        {
         "name": "electrical_risk_score",
         "rawType": "float64",
         "type": "float"
        },
        {
         "name": "ac_cooling_risk_score",
         "rawType": "float64",
         "type": "float"
        },
        {
         "name": "suspension_risk_score",
         "rawType": "float64",
         "type": "float"
        },
        {
         "name": "brakes_risk_score",
         "rawType": "float64",
         "type": "float"
        },
        {
         "name": "exhaust_risk_score",
         "rawType": "float64",
         "type": "float"
        },
        {
         "name": "battery_risk_score",
         "rawType": "float64",
         "type": "float"
        },
        {
         "name": "total_warranty_cost",
         "rawType": "float64",
         "type": "float"
        },
        {
         "name": "number_of_claims",
         "rawType": "int64",
         "type": "integer"
        },
        {
         "name": "previous_claims_count",
         "rawType": "int64",
         "type": "integer"
        },
        {
         "name": "warranty_usage_ratio",
         "rawType": "float64",
         "type": "float"
        },
        {
         "name": "is_anomaly",
         "rawType": "int64",
         "type": "integer"
        },
        {
         "name": "anomaly_type",
         "rawType": "object",
         "type": "string"
        }
       ],
       "ref": "822e28b6-3f4f-453f-9332-f24d17a0cc4c",
       "rows": [
        [
         "0",
         "ABC_006252",
         "Sedan",
         "Diesel",
         "CVT",
         "2022",
         "2.85",
         "32524.7",
         "2",
         "57.15",
         "South",
         "1.97",
         "31.99",
         "8",
         "7",
         "0.0041",
         "0.0155",
         "0.0614",
         "0.0308",
         "0.0197",
         "0.0035",
         "0.0419",
         "0.0428",
         "54251.11",
         "1",
         "0",
         "0.14",
         "0",
         "Normal"
        ],
        [
         "1",
         "ABC_004684",
         "SUV",
         "Petrol",
         "Manual",
         "2018",
         "60.0",
         "13940.12",
         "2",
         "42.9",
         "East",
         "2.61",
         "37.0",
         "4",
         "3",
         "0.0161",
         "0.0553",
         "0.2062",
         "0.0181",
         "0.0263",
         "0.0151",
         "0.0004",
         "0.0133",
         "67312.03",
         "2",
         "1",
         "0.26",
         "0",
         "Normal"
        ],
        [
         "2",
         "ABC_001731",
         "SUV",
         "Hybrid",
         "Manual",
         "2024",
         "11.46",
         "9297.57",
         "2",
         "80.15",
         "West",
         "1.66",
         "39.78",
         "4",
         "5",
         "0.0645",
         "0.0615",
         "0.0342",
         "0.052",
         "0.1739",
         "0.0663",
         "0.0991",
         "0.0122",
         "28827.14",
         "3",
         "4",
         "0.07",
         "0",
         "Normal"
        ],
        [
         "3",
         "ABC_004742",
         "Hatchback",
         "Diesel",
         "Manual",
         "2022",
         "14.55",
         "29562.46",
         "5",
         "21.51",
         "South",
         "2.36",
         "32.69",
         "4",
         "4",
         "0.0367",
         "0.0104",
         "0.0133",
         "0.0924",
         "0.0772",
         "0.019",
         "0.061",
         "0.0073",
         "42704.7",
         "0",
         "1",
         "0.44",
         "0",
         "Normal"
        ],
        [
         "4",
         "ABC_004521",
         "SUV",
         "Petrol",
         "Manual",
         "2019",
         "19.33",
         "16089.28",
         "5",
         "63.83",
         "Northeast",
         "3.14",
         "28.67",
         "5",
         "3",
         "0.1708",
         "0.0923",
         "0.0309",
         "0.0281",
         "0.0556",
         "0.1164",
         "0.0437",
         "0.049",
         "58274.46",
         "3",
         "0",
         "0.14",
         "0",
         "Normal"
        ]
       ],
       "shape": {
        "columns": 28,
        "rows": 5
       }
      },
      "text/html": [
       "<div>\n",
       "<style scoped>\n",
       "    .dataframe tbody tr th:only-of-type {\n",
       "        vertical-align: middle;\n",
       "    }\n",
       "\n",
       "    .dataframe tbody tr th {\n",
       "        vertical-align: top;\n",
       "    }\n",
       "\n",
       "    .dataframe thead th {\n",
       "        text-align: right;\n",
       "    }\n",
       "</style>\n",
       "<table border=\"1\" class=\"dataframe\">\n",
       "  <thead>\n",
       "    <tr style=\"text-align: right;\">\n",
       "      <th></th>\n",
       "      <th>vehicle_id</th>\n",
       "      <th>vehicle_type</th>\n",
       "      <th>fuel_type</th>\n",
       "      <th>transmission_type</th>\n",
       "      <th>manufacturing_year</th>\n",
       "      <th>vehicle_age_months</th>\n",
       "      <th>current_mileage</th>\n",
       "      <th>services_completed</th>\n",
       "      <th>days_since_last_service</th>\n",
       "      <th>region</th>\n",
       "      <th>avg_daily_runtime_hours</th>\n",
       "      <th>avg_speed_kmph</th>\n",
       "      <th>harsh_acceleration_count</th>\n",
       "      <th>harsh_braking_count</th>\n",
       "      <th>engine_risk_score</th>\n",
       "      <th>transmission_risk_score</th>\n",
       "      <th>electrical_risk_score</th>\n",
       "      <th>ac_cooling_risk_score</th>\n",
       "      <th>suspension_risk_score</th>\n",
       "      <th>brakes_risk_score</th>\n",
       "      <th>exhaust_risk_score</th>\n",
       "      <th>battery_risk_score</th>\n",
       "      <th>total_warranty_cost</th>\n",
       "      <th>number_of_claims</th>\n",
       "      <th>previous_claims_count</th>\n",
       "      <th>warranty_usage_ratio</th>\n",
       "      <th>is_anomaly</th>\n",
       "      <th>anomaly_type</th>\n",
       "    </tr>\n",
       "  </thead>\n",
       "  <tbody>\n",
       "    <tr>\n",
       "      <th>0</th>\n",
       "      <td>ABC_006252</td>\n",
       "      <td>Sedan</td>\n",
       "      <td>Diesel</td>\n",
       "      <td>CVT</td>\n",
       "      <td>2022</td>\n",
       "      <td>2.85</td>\n",
       "      <td>32524.70</td>\n",
       "      <td>2</td>\n",
       "      <td>57.15</td>\n",
       "      <td>South</td>\n",
       "      <td>1.97</td>\n",
       "      <td>31.99</td>\n",
       "      <td>8</td>\n",
       "      <td>7</td>\n",
       "      <td>0.00</td>\n",
       "      <td>0.02</td>\n",
       "      <td>0.06</td>\n",
       "      <td>0.03</td>\n",
       "      <td>0.02</td>\n",
       "      <td>0.00</td>\n",
       "      <td>0.04</td>\n",
       "      <td>0.04</td>\n",
       "      <td>54251.11</td>\n",
       "      <td>1</td>\n",
       "      <td>0</td>\n",
       "      <td>0.14</td>\n",
       "      <td>0</td>\n",
       "      <td>Normal</td>\n",
       "    </tr>\n",
       "    <tr>\n",
       "      <th>1</th>\n",
       "      <td>ABC_004684</td>\n",
       "      <td>SUV</td>\n",
       "      <td>Petrol</td>\n",
       "      <td>Manual</td>\n",
       "      <td>2018</td>\n",
       "      <td>60.00</td>\n",
       "      <td>13940.12</td>\n",
       "      <td>2</td>\n",
       "      <td>42.90</td>\n",
       "      <td>East</td>\n",
       "      <td>2.61</td>\n",
       "      <td>37.00</td>\n",
       "      <td>4</td>\n",
       "      <td>3</td>\n",
       "      <td>0.02</td>\n",
       "      <td>0.06</td>\n",
       "      <td>0.21</td>\n",
       "      <td>0.02</td>\n",
       "      <td>0.03</td>\n",
       "      <td>0.02</td>\n",
       "      <td>0.00</td>\n",
       "      <td>0.01</td>\n",
       "      <td>67312.03</td>\n",
       "      <td>2</td>\n",
       "      <td>1</td>\n",
       "      <td>0.26</td>\n",
       "      <td>0</td>\n",
       "      <td>Normal</td>\n",
       "    </tr>\n",
       "    <tr>\n",
       "      <th>2</th>\n",
       "      <td>ABC_001731</td>\n",
       "      <td>SUV</td>\n",
       "      <td>Hybrid</td>\n",
       "      <td>Manual</td>\n",
       "      <td>2024</td>\n",
       "      <td>11.46</td>\n",
       "      <td>9297.57</td>\n",
       "      <td>2</td>\n",
       "      <td>80.15</td>\n",
       "      <td>West</td>\n",
       "      <td>1.66</td>\n",
       "      <td>39.78</td>\n",
       "      <td>4</td>\n",
       "      <td>5</td>\n",
       "      <td>0.06</td>\n",
       "      <td>0.06</td>\n",
       "      <td>0.03</td>\n",
       "      <td>0.05</td>\n",
       "      <td>0.17</td>\n",
       "      <td>0.07</td>\n",
       "      <td>0.10</td>\n",
       "      <td>0.01</td>\n",
       "      <td>28827.14</td>\n",
       "      <td>3</td>\n",
       "      <td>4</td>\n",
       "      <td>0.07</td>\n",
       "      <td>0</td>\n",
       "      <td>Normal</td>\n",
       "    </tr>\n",
       "    <tr>\n",
       "      <th>3</th>\n",
       "      <td>ABC_004742</td>\n",
       "      <td>Hatchback</td>\n",
       "      <td>Diesel</td>\n",
       "      <td>Manual</td>\n",
       "      <td>2022</td>\n",
       "      <td>14.55</td>\n",
       "      <td>29562.46</td>\n",
       "      <td>5</td>\n",
       "      <td>21.51</td>\n",
       "      <td>South</td>\n",
       "      <td>2.36</td>\n",
       "      <td>32.69</td>\n",
       "      <td>4</td>\n",
       "      <td>4</td>\n",
       "      <td>0.04</td>\n",
       "      <td>0.01</td>\n",
       "      <td>0.01</td>\n",
       "      <td>0.09</td>\n",
       "      <td>0.08</td>\n",
       "      <td>0.02</td>\n",
       "      <td>0.06</td>\n",
       "      <td>0.01</td>\n",
       "      <td>42704.70</td>\n",
       "      <td>0</td>\n",
       "      <td>1</td>\n",
       "      <td>0.44</td>\n",
       "      <td>0</td>\n",
       "      <td>Normal</td>\n",
       "    </tr>\n",
       "    <tr>\n",
       "      <th>4</th>\n",
       "      <td>ABC_004521</td>\n",
       "      <td>SUV</td>\n",
       "      <td>Petrol</td>\n",
       "      <td>Manual</td>\n",
       "      <td>2019</td>\n",
       "      <td>19.33</td>\n",
       "      <td>16089.28</td>\n",
       "      <td>5</td>\n",
       "      <td>63.83</td>\n",
       "      <td>Northeast</td>\n",
       "      <td>3.14</td>\n",
       "      <td>28.67</td>\n",
       "      <td>5</td>\n",
       "      <td>3</td>\n",
       "      <td>0.17</td>\n",
       "      <td>0.09</td>\n",
       "      <td>0.03</td>\n",
       "      <td>0.03</td>\n",
       "      <td>0.06</td>\n",
       "      <td>0.12</td>\n",
       "      <td>0.04</td>\n",
       "      <td>0.05</td>\n",
       "      <td>58274.46</td>\n",
       "      <td>3</td>\n",
       "      <td>0</td>\n",
       "      <td>0.14</td>\n",
       "      <td>0</td>\n",
       "      <td>Normal</td>\n",
       "    </tr>\n",
       "  </tbody>\n",
       "</table>\n",
       "</div>"
      ],
      "text/plain": [
       "   vehicle_id vehicle_type fuel_type transmission_type  manufacturing_year  \\\n",
       "0  ABC_006252        Sedan    Diesel               CVT                2022   \n",
       "1  ABC_004684          SUV    Petrol            Manual                2018   \n",
       "2  ABC_001731          SUV    Hybrid            Manual                2024   \n",
       "3  ABC_004742    Hatchback    Diesel            Manual                2022   \n",
       "4  ABC_004521          SUV    Petrol            Manual                2019   \n",
       "\n",
       "   vehicle_age_months  current_mileage  services_completed  \\\n",
       "0                2.85         32524.70                   2   \n",
       "1               60.00         13940.12                   2   \n",
       "2               11.46          9297.57                   2   \n",
       "3               14.55         29562.46                   5   \n",
       "4               19.33         16089.28                   5   \n",
       "\n",
       "   days_since_last_service     region  avg_daily_runtime_hours  \\\n",
       "0                    57.15      South                     1.97   \n",
       "1                    42.90       East                     2.61   \n",
       "2                    80.15       West                     1.66   \n",
       "3                    21.51      South                     2.36   \n",
       "4                    63.83  Northeast                     3.14   \n",
       "\n",
       "   avg_speed_kmph  harsh_acceleration_count  harsh_braking_count  \\\n",
       "0           31.99                         8                    7   \n",
       "1           37.00                         4                    3   \n",
       "2           39.78                         4                    5   \n",
       "3           32.69                         4                    4   \n",
       "4           28.67                         5                    3   \n",
       "\n",
       "   engine_risk_score  transmission_risk_score  electrical_risk_score  \\\n",
       "0               0.00                     0.02                   0.06   \n",
       "1               0.02                     0.06                   0.21   \n",
       "2               0.06                     0.06                   0.03   \n",
       "3               0.04                     0.01                   0.01   \n",
       "4               0.17                     0.09                   0.03   \n",
       "\n",
       "   ac_cooling_risk_score  suspension_risk_score  brakes_risk_score  \\\n",
       "0                   0.03                   0.02               0.00   \n",
       "1                   0.02                   0.03               0.02   \n",
       "2                   0.05                   0.17               0.07   \n",
       "3                   0.09                   0.08               0.02   \n",
       "4                   0.03                   0.06               0.12   \n",
       "\n",
       "   exhaust_risk_score  battery_risk_score  total_warranty_cost  \\\n",
       "0                0.04                0.04             54251.11   \n",
       "1                0.00                0.01             67312.03   \n",
       "2                0.10                0.01             28827.14   \n",
       "3                0.06                0.01             42704.70   \n",
       "4                0.04                0.05             58274.46   \n",
       "\n",
       "   number_of_claims  previous_claims_count  warranty_usage_ratio  is_anomaly  \\\n",
       "0                 1                      0                  0.14           0   \n",
       "1                 2                      1                  0.26           0   \n",
       "2                 3                      4                  0.07           0   \n",
       "3                 0                      1                  0.44           0   \n",
       "4                 3                      0                  0.14           0   \n",
       "\n",
       "  anomaly_type  \n",
       "0       Normal  \n",
       "1       Normal  \n",
       "2       Normal  \n",
       "3       Normal  \n",
       "4       Normal  "
      ]
     },
     "execution_count": 51,
     "metadata": {},
     "output_type": "execute_result"
    }
   ],
   "source": [
    "# Quick data overview\n",
    "print(\"📋 Dataset Info:\")\n",
    "print(\"=\"*50)\n",
    "print(f\"Total samples: {len(df):,}\")\n",
    "print(f\"Features: {len(df.columns) - 3}\")  # Excluding id, labels\n",
    "print(f\"\\nFirst few records:\")\n",
    "df.head()"
   ]
  },
  {
   "cell_type": "code",
   "execution_count": 52,
   "metadata": {},
   "outputs": [
    {
     "name": "stdout",
     "output_type": "stream",
     "text": [
      "💰 Warranty Cost Analysis:\n",
      "==================================================\n",
      "         count      mean    median      std      min       max\n",
      "Normal    9500  55062.59  55033.92 19939.56  5000.00 127727.24\n",
      "Anomaly    500 184290.30 167097.14 76388.30 83348.53 498896.24\n",
      "\n",
      "📈 Key Business Insights:\n",
      "   • Anomalies cost 3.3x more than normal vehicles\n",
      "   • Cost difference: ₹129,228 per vehicle\n",
      "   • Total anomaly cost impact: ₹64,613,855\n"
     ]
    },
    {
     "data": {
      "image/png": "[encoded data removed]",
      "text/plain": [
       "<Figure size 1400x500 with 2 Axes>"
      ]
     },
     "metadata": {},
     "output_type": "display_data"
    },
    {
     "name": "stdout",
     "output_type": "stream",
     "text": [
      "\n",
      "💡 Critical Business Insight:\n",
      "   Anomalous vehicles represent only 5% of the fleet but account for\n",
      "   15.0% of total warranty costs!\n",
      "   Early detection could save millions in warranty expenses.\n"
     ]
    }
   ],
   "source": [
    "# Interesting discovery: Let's see how warranty costs differ\n",
    "print(\"💰 Warranty Cost Analysis:\")\n",
    "print(\"=\"*50)\n",
    "\n",
    "cost_stats = df.groupby('is_anomaly')['total_warranty_cost'].agg([\n",
    "    'count', 'mean', 'median', 'std', 'min', 'max'\n",
    "])\n",
    "cost_stats.index = ['Normal', 'Anomaly']\n",
    "print(cost_stats)\n",
    "\n",
    "# Calculate additional business insights\n",
    "normal_avg = df[df['is_anomaly']==0]['total_warranty_cost'].mean()\n",
    "anomaly_avg = df[df['is_anomaly']==1]['total_warranty_cost'].mean()\n",
    "cost_multiplier = anomaly_avg / normal_avg\n",
    "\n",
    "print(f\"\\n📈 Key Business Insights:\")\n",
    "print(f\"   • Anomalies cost {cost_multiplier:.1f}x more than normal vehicles\")\n",
    "print(f\"   • Cost difference: ₹{anomaly_avg - normal_avg:,.0f} per vehicle\")\n",
    "print(f\"   • Total anomaly cost impact: ₹{(anomaly_avg - normal_avg) * 500:,.0f}\")\n",
    "\n",
    "# Visualize the difference\n",
    "fig, axes = plt.subplots(1, 2, figsize=(14, 5))\n",
    "\n",
    "# Distribution comparison\n",
    "df[df['is_anomaly']==0]['total_warranty_cost'].hist(bins=50, alpha=0.7, \n",
    "                                                     label='Normal', ax=axes[0], color='blue')\n",
    "df[df['is_anomaly']==1]['total_warranty_cost'].hist(bins=50, alpha=0.7, \n",
    "                                                     label='Anomaly', ax=axes[1], color='red')\n",
    "axes[0].set_title('Normal Samples - Warranty Cost Distribution')\n",
    "axes[0].set_xlabel('Warranty Cost (INR)')\n",
    "axes[0].set_ylabel('Frequency')\n",
    "axes[0].axvline(normal_avg, color='darkblue', linestyle='--', label=f'Mean: ₹{normal_avg:,.0f}')\n",
    "axes[0].legend()\n",
    "\n",
    "axes[1].set_title('Anomaly Samples - Warranty Cost Distribution')\n",
    "axes[1].set_xlabel('Warranty Cost (INR)')\n",
    "axes[1].set_ylabel('Frequency')\n",
    "axes[1].axvline(anomaly_avg, color='darkred', linestyle='--', label=f'Mean: ₹{anomaly_avg:,.0f}')\n",
    "axes[1].legend()\n",
    "\n",
    "plt.tight_layout()\n",
    "plt.show()\n",
    "\n",
    "print(f\"\\n💡 Critical Business Insight:\")\n",
    "print(f\"   Anomalous vehicles represent only 5% of the fleet but account for\")\n",
    "print(f\"   {(anomaly_avg * 500) / (normal_avg * 9500 + anomaly_avg * 500) * 100:.1f}% of total warranty costs!\")\n",
    "print(f\"   Early detection could save millions in warranty expenses.\")"
   ]
  },
  {
   "cell_type": "code",
   "execution_count": 53,
   "metadata": {},
   "outputs": [
    {
     "name": "stdout",
     "output_type": "stream",
     "text": [
      "💰 Warranty Cost Analysis:\n",
      "==================================================\n",
      "         count      mean    median      std      min       max\n",
      "Normal    9500  55062.59  55033.92 19939.56  5000.00 127727.24\n",
      "Anomaly    500 184290.30 167097.14 76388.30 83348.53 498896.24\n"
     ]
    },
    {
     "data": {
      "image/png": "[encoded data removed]",
      "text/plain": [
       "<Figure size 1400x500 with 2 Axes>"
      ]
     },
     "metadata": {},
     "output_type": "display_data"
    },
    {
     "name": "stdout",
     "output_type": "stream",
     "text": [
      "\n",
      "💡 Insight: Anomalies tend to have significantly higher warranty costs!\n"
     ]
    }
   ],
   "source": [
    "# Interesting discovery: Let's see how warranty costs differ\n",
    "print(\"💰 Warranty Cost Analysis:\")\n",
    "print(\"=\"*50)\n",
    "\n",
    "cost_stats = df.groupby('is_anomaly')['total_warranty_cost'].agg([\n",
    "    'count', 'mean', 'median', 'std', 'min', 'max'\n",
    "])\n",
    "cost_stats.index = ['Normal', 'Anomaly']\n",
    "print(cost_stats)\n",
    "\n",
    "# Visualize the difference\n",
    "fig, axes = plt.subplots(1, 2, figsize=(14, 5))\n",
    "\n",
    "# Distribution comparison\n",
    "df[df['is_anomaly']==0]['total_warranty_cost'].hist(bins=50, alpha=0.7, \n",
    "                                                     label='Normal', ax=axes[0], color='blue')\n",
    "df[df['is_anomaly']==1]['total_warranty_cost'].hist(bins=50, alpha=0.7, \n",
    "                                                     label='Anomaly', ax=axes[1], color='red')\n",
    "axes[0].set_title('Normal Samples - Warranty Cost Distribution')\n",
    "axes[0].set_xlabel('Warranty Cost (INR)')\n",
    "axes[0].set_ylabel('Frequency')\n",
    "\n",
    "axes[1].set_title('Anomaly Samples - Warranty Cost Distribution')\n",
    "axes[1].set_xlabel('Warranty Cost (INR)')\n",
    "axes[1].set_ylabel('Frequency')\n",
    "\n",
    "plt.tight_layout()\n",
    "plt.show()\n",
    "\n",
    "print(\"\\n💡 Insight: Anomalies tend to have significantly higher warranty costs!\")"
   ]
  },
  {
   "cell_type": "markdown",
   "metadata": {},
   "source": [
    "## 5. Data Preprocessing for Anomaly Detection\n",
    "\n",
    "Now let's prepare our data for anomaly detection algorithms."
   ]
  },
  {
   "cell_type": "code",
   "execution_count": 54,
   "metadata": {},
   "outputs": [
    {
     "name": "stdout",
     "output_type": "stream",
     "text": [
      "📊 Feature Types:\n",
      "Categorical (4): ['vehicle_type', 'fuel_type', 'transmission_type']...\n",
      "Numerical (21): ['manufacturing_year', 'vehicle_age_months', 'current_mileage', 'services_completed', 'days_since_last_service']...\n",
      "\n",
      "✅ Categorical variables encoded\n"
     ]
    }
   ],
   "source": [
    "# Separate features and labels\n",
    "exclude_cols = ['vehicle_id', 'is_anomaly', 'anomaly_type']\n",
    "feature_cols = [col for col in df.columns if col not in exclude_cols]\n",
    "\n",
    "# Identify categorical and numerical columns\n",
    "categorical_cols = df[feature_cols].select_dtypes(include=['object']).columns.tolist()\n",
    "numerical_cols = df[feature_cols].select_dtypes(include=['int64', 'float64']).columns.tolist()\n",
    "\n",
    "print(f\"📊 Feature Types:\")\n",
    "print(f\"Categorical ({len(categorical_cols)}): {categorical_cols[:3]}...\")\n",
    "print(f\"Numerical ({len(numerical_cols)}): {numerical_cols[:5]}...\")\n",
    "\n",
    "# Encode categorical variables\n",
    "df_encoded = df.copy()\n",
    "label_encoders = {}\n",
    "\n",
    "for col in categorical_cols:\n",
    "    le = LabelEncoder()\n",
    "    df_encoded[col] = le.fit_transform(df[col].astype(str))\n",
    "    label_encoders[col] = le\n",
    "\n",
    "print(\"\\n✅ Categorical variables encoded\")"
   ]
  },
  {
   "cell_type": "code",
   "execution_count": 55,
   "metadata": {},
   "outputs": [
    {
     "name": "stdout",
     "output_type": "stream",
     "text": [
      "🎯 Feature matrix shape: (10000, 25)\n",
      "🏷️ Labels shape: (10000,)\n",
      "\n",
      "📊 Class distribution:\n",
      "   Normal samples: 9500 (95.0%)\n",
      "   Anomalies: 500 (5.0%)\n"
     ]
    }
   ],
   "source": [
    "# Create feature matrix and labels\n",
    "X = df_encoded[feature_cols].values\n",
    "y = df_encoded['is_anomaly'].values\n",
    "\n",
    "# Standardize features (important for distance-based algorithms)\n",
    "scaler = StandardScaler()\n",
    "X_scaled = scaler.fit_transform(X)\n",
    "\n",
    "print(f\"🎯 Feature matrix shape: {X_scaled.shape}\")\n",
    "print(f\"🏷️ Labels shape: {y.shape}\")\n",
    "print(f\"\\n📊 Class distribution:\")\n",
    "print(f\"   Normal samples: {(y==0).sum()} ({(y==0).mean():.1%})\")\n",
    "print(f\"   Anomalies: {(y==1).sum()} ({(y==1).mean():.1%})\")"
   ]
  },
  {
   "cell_type": "markdown",
   "metadata": {},
   "source": [
    "## 6. Dimensionality Reduction for Visualization\n",
    "\n",
    "Let's visualize our data in 2D to see if anomalies are visually separable."
   ]
  },
  {
   "cell_type": "code",
   "execution_count": 56,
   "metadata": {},
   "outputs": [
    {
     "name": "stdout",
     "output_type": "stream",
     "text": [
      "📉 PCA Explained Variance: [0.40259292 0.04524068]\n",
      "Total variance explained: 44.78%\n"
     ]
    },
    {
     "data": {
      "application/vnd.plotly.v1+json": {
       "config": {
        "plotlyServerURL": "https://plot.ly"
       },
       "data": [
        {
         "hovertemplate": "label=Normal<br>PC1=%{x}<br>PC2=%{y}<extra></extra>",
         "legendgroup": "Normal",
         "marker": {
          "color": "blue",
          "opacity": 0.6,
          "size": 5,
          "symbol": "circle"
         },
         "mode": "markers",
         "name": "Normal",
         "showlegend": true,
         "type": "scattergl",
         "x": {
          "bdata": "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",
          "dtype": "f8"
         },
         "xaxis": "x",
         "y": {
          "bdata": "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",
          "dtype": "f8"
         },
         "yaxis": "y"
        },
        {
         "hovertemplate": "label=Anomaly<br>PC1=%{x}<br>PC2=%{y}<extra></extra>",
         "legendgroup": "Anomaly",
         "marker": {
          "color": "red",
          "opacity": 0.6,
          "size": 5,
          "symbol": "circle"
         },
         "mode": "markers",
         "name": "Anomaly",
         "showlegend": true,
         "type": "scattergl",
         "x": {
          "bdata": "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",
          "dtype": "f8"
         },
         "xaxis": "x",
         "y": {
          "bdata": "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",
          "dtype": "f8"
         },
         "yaxis": "y"
        }
       ],
       "layout": {
        "height": 500,
        "legend": {
         "title": {
          "text": "label"
         },
         "tracegroupgap": 0
        },
        "template": {
         "data": {
          "bar": [
           {
            "error_x": {
             "color": "#2a3f5f"
            },
            "error_y": {
             "color": "#2a3f5f"
            },
            "marker": {
             "line": {
              "color": "#E5ECF6",
              "width": 0.5
             },
             "pattern": {
              "fillmode": "overlay",
              "size": 10,
              "solidity": 0.2
             }
            },
            "type": "bar"
           }
          ],
          "barpolar": [
           {
            "marker": {
             "line": {
              "color": "#E5ECF6",
              "width": 0.5
             },
             "pattern": {
              "fillmode": "overlay",
              "size": 10,
              "solidity": 0.2
             }
            },
            "type": "barpolar"
           }
          ],
          "carpet": [
           {
            "aaxis": {
             "endlinecolor": "#2a3f5f",
             "gridcolor": "white",
             "linecolor": "white",
             "minorgridcolor": "white",
             "startlinecolor": "#2a3f5f"
            },
            "baxis": {
             "endlinecolor": "#2a3f5f",
             "gridcolor": "white",
             "linecolor": "white",
             "minorgridcolor": "white",
             "startlinecolor": "#2a3f5f"
            },
            "type": "carpet"
           }
          ],
          "choropleth": [
           {
            "colorbar": {
             "outlinewidth": 0,
             "ticks": ""
            },
            "type": "choropleth"
           }
          ],
          "contour": [
           {
            "colorbar": {
             "outlinewidth": 0,
             "ticks": ""
            },
            "colorscale": [
             [
              0,
              "#0d0887"
             ],
             [
              0.1111111111111111,
              "#46039f"
             ],
             [
              0.2222222222222222,
              "#7201a8"
             ],
             [
              0.3333333333333333,
              "#9c179e"
             ],
             [
              0.4444444444444444,
              "#bd3786"
             ],
             [
              0.5555555555555556,
              "#d8576b"
             ],
             [
              0.6666666666666666,
              "#ed7953"
             ],
             [
              0.7777777777777778,
              "#fb9f3a"
             ],
             [
              0.8888888888888888,
              "#fdca26"
             ],
             [
              1,
              "#f0f921"
             ]
            ],
            "type": "contour"
           }
          ],
          "contourcarpet": [
           {
            "colorbar": {
             "outlinewidth": 0,
             "ticks": ""
            },
            "type": "contourcarpet"
           }
          ],
          "heatmap": [
           {
            "colorbar": {
             "outlinewidth": 0,
             "ticks": ""
            },
            "colorscale": [
             [
              0,
              "#0d0887"
             ],
             [
              0.1111111111111111,
              "#46039f"
             ],
             [
              0.2222222222222222,
              "#7201a8"
             ],
             [
              0.3333333333333333,
              "#9c179e"
             ],
             [
              0.4444444444444444,
              "#bd3786"
             ],
             [
              0.5555555555555556,
              "#d8576b"
             ],
             [
              0.6666666666666666,
              "#ed7953"
             ],
             [
              0.7777777777777778,
              "#fb9f3a"
             ],
             [
              0.8888888888888888,
              "#fdca26"
             ],
             [
              1,
              "#f0f921"
             ]
            ],
            "type": "heatmap"
           }
          ],
          "histogram": [
           {
            "marker": {
             "pattern": {
              "fillmode": "overlay",
              "size": 10,
              "solidity": 0.2
             }
            },
            "type": "histogram"
           }
          ],
          "histogram2d": [
           {
            "colorbar": {
             "outlinewidth": 0,
             "ticks": ""
            },
            "colorscale": [
             [
              0,
              "#0d0887"
             ],
             [
              0.1111111111111111,
              "#46039f"
             ],
             [
              0.2222222222222222,
              "#7201a8"
             ],
             [
              0.3333333333333333,
              "#9c179e"
             ],
             [
              0.4444444444444444,
              "#bd3786"
             ],
             [
              0.5555555555555556,
              "#d8576b"
             ],
             [
              0.6666666666666666,
              "#ed7953"
             ],
             [
              0.7777777777777778,
              "#fb9f3a"
             ],
             [
              0.8888888888888888,
              "#fdca26"
             ],
             [
              1,
              "#f0f921"
             ]
            ],
            "type": "histogram2d"
           }
          ],
          "histogram2dcontour": [
           {
            "colorbar": {
             "outlinewidth": 0,
             "ticks": ""
            },
            "colorscale": [
             [
              0,
              "#0d0887"
             ],
             [
              0.1111111111111111,
              "#46039f"
             ],
             [
              0.2222222222222222,
              "#7201a8"
             ],
             [
              0.3333333333333333,
              "#9c179e"
             ],
             [
              0.4444444444444444,
              "#bd3786"
             ],
             [
              0.5555555555555556,
              "#d8576b"
             ],
             [
              0.6666666666666666,
              "#ed7953"
             ],
             [
              0.7777777777777778,
              "#fb9f3a"
             ],
             [
              0.8888888888888888,
              "#fdca26"
             ],
             [
              1,
              "#f0f921"
             ]
            ],
            "type": "histogram2dcontour"
           }
          ],
          "mesh3d": [
           {
            "colorbar": {
             "outlinewidth": 0,
             "ticks": ""
            },
            "type": "mesh3d"
           }
          ],
          "parcoords": [
           {
            "line": {
             "colorbar": {
              "outlinewidth": 0,
              "ticks": ""
             }
            },
            "type": "parcoords"
           }
          ],
          "pie": [
           {
            "automargin": true,
            "type": "pie"
           }
          ],
          "scatter": [
           {
            "fillpattern": {
             "fillmode": "overlay",
             "size": 10,
             "solidity": 0.2
            },
            "type": "scatter"
           }
          ],
          "scatter3d": [
           {
            "line": {
             "colorbar": {
              "outlinewidth": 0,
              "ticks": ""
             }
            },
            "marker": {
             "colorbar": {
              "outlinewidth": 0,
              "ticks": ""
             }
            },
            "type": "scatter3d"
           }
          ],
          "scattercarpet": [
           {
            "marker": {
             "colorbar": {
              "outlinewidth": 0,
              "ticks": ""
             }
            },
            "type": "scattercarpet"
           }
          ],
          "scattergeo": [
           {
            "marker": {
             "colorbar": {
              "outlinewidth": 0,
              "ticks": ""
             }
            },
            "type": "scattergeo"
           }
          ],
          "scattergl": [
           {
            "marker": {
             "colorbar": {
              "outlinewidth": 0,
              "ticks": ""
             }
            },
            "type": "scattergl"
           }
          ],
          "scattermap": [
           {
            "marker": {
             "colorbar": {
              "outlinewidth": 0,
              "ticks": ""
             }
            },
            "type": "scattermap"
           }
          ],
          "scattermapbox": [
           {
            "marker": {
             "colorbar": {
              "outlinewidth": 0,
              "ticks": ""
             }
            },
            "type": "scattermapbox"
           }
          ],
          "scatterpolar": [
           {
            "marker": {
             "colorbar": {
              "outlinewidth": 0,
              "ticks": ""
             }
            },
            "type": "scatterpolar"
           }
          ],
          "scatterpolargl": [
           {
            "marker": {
             "colorbar": {
              "outlinewidth": 0,
              "ticks": ""
             }
            },
            "type": "scatterpolargl"
           }
          ],
          "scatterternary": [
           {
            "marker": {
             "colorbar": {
              "outlinewidth": 0,
              "ticks": ""
             }
            },
            "type": "scatterternary"
           }
          ],
          "surface": [
           {
            "colorbar": {
             "outlinewidth": 0,
             "ticks": ""
            },
            "colorscale": [
             [
              0,
              "#0d0887"
             ],
             [
              0.1111111111111111,
              "#46039f"
             ],
             [
              0.2222222222222222,
              "#7201a8"
             ],
             [
              0.3333333333333333,
              "#9c179e"
             ],
             [
              0.4444444444444444,
              "#bd3786"
             ],
             [
              0.5555555555555556,
              "#d8576b"
             ],
             [
              0.6666666666666666,
              "#ed7953"
             ],
             [
              0.7777777777777778,
              "#fb9f3a"
             ],
             [
              0.8888888888888888,
              "#fdca26"
             ],
             [
              1,
              "#f0f921"
             ]
            ],
            "type": "surface"
           }
          ],
          "table": [
           {
            "cells": {
             "fill": {
              "color": "#EBF0F8"
             },
             "line": {
              "color": "white"
             }
            },
            "header": {
             "fill": {
              "color": "#C8D4E3"
             },
             "line": {
              "color": "white"
             }
            },
            "type": "table"
           }
          ]
         },
         "layout": {
          "annotationdefaults": {
           "arrowcolor": "#2a3f5f",
           "arrowhead": 0,
           "arrowwidth": 1
          },
          "autotypenumbers": "strict",
          "coloraxis": {
           "colorbar": {
            "outlinewidth": 0,
            "ticks": ""
           }
          },
          "colorscale": {
           "diverging": [
            [
             0,
             "#8e0152"
            ],
            [
             0.1,
             "#c51b7d"
            ],
            [
             0.2,
             "#de77ae"
            ],
            [
             0.3,
             "#f1b6da"
            ],
            [
             0.4,
             "#fde0ef"
            ],
            [
             0.5,
             "#f7f7f7"
            ],
            [
             0.6,
             "#e6f5d0"
            ],
            [
             0.7,
             "#b8e186"
            ],
            [
             0.8,
             "#7fbc41"
            ],
            [
             0.9,
             "#4d9221"
            ],
            [
             1,
             "#276419"
            ]
           ],
           "sequential": [
            [
             0,
             "#0d0887"
            ],
            [
             0.1111111111111111,
             "#46039f"
            ],
            [
             0.2222222222222222,
             "#7201a8"
            ],
            [
             0.3333333333333333,
             "#9c179e"
            ],
            [
             0.4444444444444444,
             "#bd3786"
            ],
            [
             0.5555555555555556,
             "#d8576b"
            ],
            [
             0.6666666666666666,
             "#ed7953"
            ],
            [
             0.7777777777777778,
             "#fb9f3a"
            ],
            [
             0.8888888888888888,
             "#fdca26"
            ],
            [
             1,
             "#f0f921"
            ]
           ],
           "sequentialminus": [
            [
             0,
             "#0d0887"
            ],
            [
             0.1111111111111111,
             "#46039f"
            ],
            [
             0.2222222222222222,
             "#7201a8"
            ],
            [
             0.3333333333333333,
             "#9c179e"
            ],
            [
             0.4444444444444444,
             "#bd3786"
            ],
            [
             0.5555555555555556,
             "#d8576b"
            ],
            [
             0.6666666666666666,
             "#ed7953"
            ],
            [
             0.7777777777777778,
             "#fb9f3a"
            ],
            [
             0.8888888888888888,
             "#fdca26"
            ],
            [
             1,
             "#f0f921"
            ]
           ]
          },
          "colorway": [
           "#636efa",
           "#EF553B",
           "#00cc96",
           "#ab63fa",
           "#FFA15A",
           "#19d3f3",
           "#FF6692",
           "#B6E880",
           "#FF97FF",
           "#FECB52"
          ],
          "font": {
           "color": "#2a3f5f"
          },
          "geo": {
           "bgcolor": "white",
           "lakecolor": "white",
           "landcolor": "#E5ECF6",
           "showlakes": true,
           "showland": true,
           "subunitcolor": "white"
          },
          "hoverlabel": {
           "align": "left"
          },
          "hovermode": "closest",
          "mapbox": {
           "style": "light"
          },
          "paper_bgcolor": "white",
          "plot_bgcolor": "#E5ECF6",
          "polar": {
           "angularaxis": {
            "gridcolor": "white",
            "linecolor": "white",
            "ticks": ""
           },
           "bgcolor": "#E5ECF6",
           "radialaxis": {
            "gridcolor": "white",
            "linecolor": "white",
            "ticks": ""
           }
          },
          "scene": {
           "xaxis": {
            "backgroundcolor": "#E5ECF6",
            "gridcolor": "white",
            "gridwidth": 2,
            "linecolor": "white",
            "showbackground": true,
            "ticks": "",
            "zerolinecolor": "white"
           },
           "yaxis": {
            "backgroundcolor": "#E5ECF6",
            "gridcolor": "white",
            "gridwidth": 2,
            "linecolor": "white",
            "showbackground": true,
            "ticks": "",
            "zerolinecolor": "white"
           },
           "zaxis": {
            "backgroundcolor": "#E5ECF6",
            "gridcolor": "white",
            "gridwidth": 2,
            "linecolor": "white",
            "showbackground": true,
            "ticks": "",
            "zerolinecolor": "white"
           }
          },
          "shapedefaults": {
           "line": {
            "color": "#2a3f5f"
           }
          },
          "ternary": {
           "aaxis": {
            "gridcolor": "white",
            "linecolor": "white",
            "ticks": ""
           },
           "baxis": {
            "gridcolor": "white",
            "linecolor": "white",
            "ticks": ""
           },
           "bgcolor": "#E5ECF6",
           "caxis": {
            "gridcolor": "white",
            "linecolor": "white",
            "ticks": ""
           }
          },
          "title": {
           "x": 0.05
          },
          "xaxis": {
           "automargin": true,
           "gridcolor": "white",
           "linecolor": "white",
           "ticks": "",
           "title": {
            "standoff": 15
           },
           "zerolinecolor": "white",
           "zerolinewidth": 2
          },
          "yaxis": {
           "automargin": true,
           "gridcolor": "white",
           "linecolor": "white",
           "ticks": "",
           "title": {
            "standoff": 15
           },
           "zerolinecolor": "white",
           "zerolinewidth": 2
          }
         }
        },
        "title": {
         "text": "PCA Visualization of Normal vs Anomalous Samples"
        },
        "xaxis": {
         "anchor": "y",
         "domain": [
          0,
          1
         ],
         "title": {
          "text": "PC1"
         }
        },
        "yaxis": {
         "anchor": "x",
         "domain": [
          0,
          1
         ],
         "title": {
          "text": "PC2"
         }
        }
       }
      }
     },
     "metadata": {},
     "output_type": "display_data"
    },
    {
     "name": "stdout",
     "output_type": "stream",
     "text": [
      "\n",
      "💡 Observation: Can you see any patterns in how anomalies are distributed?\n"
     ]
    }
   ],
   "source": [
    "# PCA for visualization\n",
    "pca = PCA(n_components=2, random_state=42)\n",
    "X_pca = pca.fit_transform(X_scaled)\n",
    "\n",
    "print(f\"📉 PCA Explained Variance: {pca.explained_variance_ratio_}\")\n",
    "print(f\"Total variance explained: {pca.explained_variance_ratio_.sum():.2%}\")\n",
    "\n",
    "# Create visualization dataframe\n",
    "viz_df = pd.DataFrame({\n",
    "    'PC1': X_pca[:, 0],\n",
    "    'PC2': X_pca[:, 1],\n",
    "    'is_anomaly': y,\n",
    "    'label': ['Anomaly' if x == 1 else 'Normal' for x in y]\n",
    "})\n",
    "\n",
    "# Interactive plot with Plotly\n",
    "fig = px.scatter(viz_df, x='PC1', y='PC2', color='label',\n",
    "                color_discrete_map={'Normal': 'blue', 'Anomaly': 'red'},\n",
    "                title='PCA Visualization of Normal vs Anomalous Samples',\n",
    "                opacity=0.6)\n",
    "fig.update_traces(marker=dict(size=5))\n",
    "fig.update_layout(height=500)\n",
    "fig.show()\n",
    "\n",
    "print(\"\\n💡 Observation: Can you see any patterns in how anomalies are distributed?\")"
   ]
  },
  {
   "cell_type": "markdown",
   "metadata": {},
   "source": [
    "## 7. Anomaly Detection with PyOD\n",
    "\n",
    "Now let's apply various anomaly detection algorithms from PyOD library.\n",
    "\n",
    "### 7.1 K-Nearest Neighbors (KNN) Based Detection"
   ]
  },
  {
   "cell_type": "code",
   "execution_count": 57,
   "metadata": {},
   "outputs": [
    {
     "name": "stdout",
     "output_type": "stream",
     "text": [
      "🎯 KNN Detector Performance:\n",
      "==================================================\n",
      "F1 Score: 0.9185\n",
      "Balanced Accuracy: 0.9494\n",
      "\n",
      "📊 Confusion Matrix:\n",
      "              Pred Normal  Pred Anomaly\n",
      "True Normal          9469            31\n",
      "True Anomaly           49           451\n"
     ]
    }
   ],
   "source": [
    "from pyod.models.knn import KNN\n",
    "\n",
    "# Initialize KNN detector\n",
    "knn_detector = KNN(n_neighbors=5, contamination=0.05)  # contamination = expected anomaly rate\n",
    "\n",
    "# Fit the model\n",
    "knn_detector.fit(X_scaled)\n",
    "\n",
    "# Get predictions\n",
    "knn_predictions = knn_detector.predict(X_scaled)  # 0: normal, 1: anomaly\n",
    "knn_scores = knn_detector.decision_scores_  # Anomaly scores\n",
    "\n",
    "# Evaluate performance\n",
    "print(\"🎯 KNN Detector Performance:\")\n",
    "print(\"=\"*50)\n",
    "print(f\"F1 Score: {f1_score(y, knn_predictions):.4f}\")\n",
    "print(f\"Balanced Accuracy: {balanced_accuracy_score(y, knn_predictions):.4f}\")\n",
    "\n",
    "# Confusion Matrix\n",
    "cm = confusion_matrix(y, knn_predictions)\n",
    "print(\"\\n📊 Confusion Matrix:\")\n",
    "print(pd.DataFrame(cm, \n",
    "                  index=['True Normal', 'True Anomaly'],\n",
    "                  columns=['Pred Normal', 'Pred Anomaly']))"
   ]
  },
  {
   "cell_type": "markdown",
   "metadata": {},
   "source": [
    "### 7.2 Local Outlier Factor (LOF)"
   ]
  },
  {
   "cell_type": "code",
   "execution_count": 58,
   "metadata": {},
   "outputs": [
    {
     "name": "stdout",
     "output_type": "stream",
     "text": [
      "🎯 LOF Detector Performance:\n",
      "==================================================\n",
      "F1 Score: 0.0957\n",
      "Balanced Accuracy: 0.5242\n",
      "\n",
      "🔍 Types of anomalies detected by LOF:\n",
      "anomaly_type\n",
      "Normal                   376\n",
      "Point_Extreme_Mileage     19\n",
      "Point_Extreme_Cost        13\n",
      "Point_Extreme_Claims      12\n",
      "Name: count, dtype: int64\n"
     ]
    }
   ],
   "source": [
    "from pyod.models.lof import LOF\n",
    "\n",
    "# Initialize LOF detector\n",
    "lof_detector = LOF(n_neighbors=20, contamination=0.05)\n",
    "\n",
    "# Fit and predict\n",
    "lof_detector.fit(X_scaled)\n",
    "lof_predictions = lof_detector.predict(X_scaled)\n",
    "lof_scores = lof_detector.decision_scores_\n",
    "\n",
    "# Evaluate\n",
    "print(\"🎯 LOF Detector Performance:\")\n",
    "print(\"=\"*50)\n",
    "print(f\"F1 Score: {f1_score(y, lof_predictions):.4f}\")\n",
    "print(f\"Balanced Accuracy: {balanced_accuracy_score(y, lof_predictions):.4f}\")\n",
    "\n",
    "# Let's understand what LOF found\n",
    "lof_anomalies = df[lof_predictions == 1]['anomaly_type'].value_counts()\n",
    "print(\"\\n🔍 Types of anomalies detected by LOF:\")\n",
    "print(lof_anomalies.head())"
   ]
  },
  {
   "cell_type": "markdown",
   "metadata": {},
   "source": [
    "### 7.3 Isolation Forest"
   ]
  },
  {
   "cell_type": "code",
   "execution_count": 59,
   "metadata": {},
   "outputs": [
    {
     "name": "stdout",
     "output_type": "stream",
     "text": [
      "🎯 Isolation Forest Performance:\n",
      "==================================================\n",
      "F1 Score: 1.0000\n",
      "Balanced Accuracy: 1.0000\n",
      "\n",
      "📊 Confusion Matrix:\n",
      "              Pred Normal  Pred Anomaly\n",
      "True Normal          9500             0\n",
      "True Anomaly            0           500\n"
     ]
    }
   ],
   "source": [
    "from pyod.models.iforest import IForest\n",
    "\n",
    "# Initialize Isolation Forest\n",
    "iforest_detector = IForest(contamination=0.05, n_estimators=100, random_state=42)\n",
    "\n",
    "# Fit and predict\n",
    "iforest_detector.fit(X_scaled)\n",
    "iforest_predictions = iforest_detector.predict(X_scaled)\n",
    "iforest_scores = iforest_detector.decision_scores_\n",
    "\n",
    "# Evaluate\n",
    "print(\"🎯 Isolation Forest Performance:\")\n",
    "print(\"=\"*50)\n",
    "print(f\"F1 Score: {f1_score(y, iforest_predictions):.4f}\")\n",
    "print(f\"Balanced Accuracy: {balanced_accuracy_score(y, iforest_predictions):.4f}\")\n",
    "\n",
    "# Confusion Matrix\n",
    "cm = confusion_matrix(y, iforest_predictions)\n",
    "print(\"\\n📊 Confusion Matrix:\")\n",
    "print(pd.DataFrame(cm, \n",
    "                  index=['True Normal', 'True Anomaly'],\n",
    "                  columns=['Pred Normal', 'Pred Anomaly']))"
   ]
  },
  {
   "cell_type": "markdown",
   "metadata": {},
   "source": [
    "### 7.4 One-Class SVM"
   ]
  },
  {
   "cell_type": "code",
   "execution_count": 60,
   "metadata": {},
   "outputs": [
    {
     "name": "stdout",
     "output_type": "stream",
     "text": [
      "🎯 One-Class SVM Performance:\n",
      "==================================================\n",
      "F1 Score: 1.0000\n",
      "Balanced Accuracy: 1.0000\n"
     ]
    }
   ],
   "source": [
    "from pyod.models.ocsvm import OCSVM\n",
    "\n",
    "# Initialize One-Class SVM\n",
    "ocsvm_detector = OCSVM(contamination=0.05, kernel='rbf', gamma='auto')\n",
    "\n",
    "# Fit and predict\n",
    "ocsvm_detector.fit(X_scaled)\n",
    "ocsvm_predictions = ocsvm_detector.predict(X_scaled)\n",
    "ocsvm_scores = ocsvm_detector.decision_scores_\n",
    "\n",
    "# Evaluate\n",
    "print(\"🎯 One-Class SVM Performance:\")\n",
    "print(\"=\"*50)\n",
    "print(f\"F1 Score: {f1_score(y, ocsvm_predictions):.4f}\")\n",
    "print(f\"Balanced Accuracy: {balanced_accuracy_score(y, ocsvm_predictions):.4f}\")"
   ]
  },
  {
   "cell_type": "markdown",
   "metadata": {},
   "source": [
    "### 7.5 Fast and Scalable Methods"
   ]
  },
  {
   "cell_type": "code",
   "execution_count": 61,
   "metadata": {},
   "outputs": [
    {
     "name": "stdout",
     "output_type": "stream",
     "text": [
      "⚡ Fast Anomaly Detection Methods Performance:\n",
      "============================================================\n",
      "HBOS  - F1: 1.0000, Balanced Acc: 1.0000\n",
      "COPOD - F1: 1.0000, Balanced Acc: 1.0000\n",
      "ECOD  - F1: 1.0000, Balanced Acc: 1.0000\n"
     ]
    }
   ],
   "source": [
    "from pyod.models.hbos import HBOS\n",
    "from pyod.models.copod import COPOD\n",
    "from pyod.models.ecod import ECOD\n",
    "\n",
    "# HBOS - Histogram-based Outlier Score (Very Fast)\n",
    "hbos_detector = HBOS(contamination=0.05)\n",
    "hbos_detector.fit(X_scaled)\n",
    "hbos_predictions = hbos_detector.predict(X_scaled)\n",
    "\n",
    "# COPOD - Copula-Based Outlier Detection (Parameter-free)\n",
    "copod_detector = COPOD(contamination=0.05)\n",
    "copod_detector.fit(X_scaled)\n",
    "copod_predictions = copod_detector.predict(X_scaled)\n",
    "\n",
    "# ECOD - Empirical Cumulative Distribution (Unsupervised)\n",
    "ecod_detector = ECOD(contamination=0.05)\n",
    "ecod_detector.fit(X_scaled)\n",
    "ecod_predictions = ecod_detector.predict(X_scaled)\n",
    "\n",
    "# Compare fast methods\n",
    "print(\"⚡ Fast Anomaly Detection Methods Performance:\")\n",
    "print(\"=\"*60)\n",
    "print(f\"HBOS  - F1: {f1_score(y, hbos_predictions):.4f}, Balanced Acc: {balanced_accuracy_score(y, hbos_predictions):.4f}\")\n",
    "print(f\"COPOD - F1: {f1_score(y, copod_predictions):.4f}, Balanced Acc: {balanced_accuracy_score(y, copod_predictions):.4f}\")\n",
    "print(f\"ECOD  - F1: {f1_score(y, ecod_predictions):.4f}, Balanced Acc: {balanced_accuracy_score(y, ecod_predictions):.4f}\")"
   ]
  },
  {
   "cell_type": "code",
   "execution_count": 62,
   "metadata": {},
   "outputs": [
    {
     "name": "stdout",
     "output_type": "stream",
     "text": [
      "📊 Comprehensive Algorithm Comparison\n",
      "================================================================================\n",
      "Algorithm  F1_Score  Balanced_Accuracy  Precision  Recall  ROC_AUC\n",
      "     HBOS      1.00               1.00       1.00    1.00     1.00\n",
      "  IForest      1.00               1.00       1.00    1.00     1.00\n",
      "    COPOD      1.00               1.00       1.00    1.00     1.00\n",
      "     ECOD      1.00               1.00       1.00    1.00     1.00\n",
      "      KNN      0.92               0.95       0.94    0.90     1.00\n",
      "      LOF      0.10               0.52       0.10    0.09     0.35\n",
      "\n",
      "🏆 Algorithm Performance Insights:\n",
      "==================================================\n",
      "🥇 Best Overall: HBOS (F1: 1.000)\n",
      "🥈 Second Best: IForest (F1: 1.000)\n",
      "⚡ Fastest Methods: HBOS, COPOD, ECOD (statistical approaches)\n",
      "🎯 Most Robust: Isolation Forest (handles mixed data types well)\n",
      "🔍 Most Interpretable: KNN (distance-based reasoning)\n",
      "✨ Perfect Detection: HBOS, IForest, COPOD, ECOD\n",
      "   This suggests our synthetic dataset has well-separated anomalies!\n"
     ]
    }
   ],
   "source": [
    "# Store all results for comparison\n",
    "results = {\n",
    "    'KNN': {'predictions': knn_predictions, 'scores': knn_scores},\n",
    "    'LOF': {'predictions': lof_predictions, 'scores': lof_scores},\n",
    "    'IForest': {'predictions': iforest_predictions, 'scores': iforest_scores},\n",
    "    'HBOS': {'predictions': hbos_predictions, 'scores': hbos_detector.decision_scores_},\n",
    "    'COPOD': {'predictions': copod_predictions, 'scores': copod_detector.decision_scores_},\n",
    "    'ECOD': {'predictions': ecod_predictions, 'scores': ecod_detector.decision_scores_}\n",
    "}\n",
    "\n",
    "# Calculate metrics for all algorithms\n",
    "comparison_metrics = []\n",
    "for name, result in results.items():\n",
    "    preds = result['predictions']\n",
    "    scores = result['scores']\n",
    "    \n",
    "    # Calculate metrics\n",
    "    tn, fp, fn, tp = confusion_matrix(y, preds).ravel()\n",
    "    \n",
    "    metrics = {\n",
    "        'Algorithm': name,\n",
    "        'F1_Score': f1_score(y, preds),\n",
    "        'Balanced_Accuracy': balanced_accuracy_score(y, preds),\n",
    "        'Precision': tp / (tp + fp) if (tp + fp) > 0 else 0,\n",
    "        'Recall': tp / (tp + fn) if (tp + fn) > 0 else 0,\n",
    "        'ROC_AUC': roc_auc_score(y, scores),\n",
    "        'True_Positives': tp,\n",
    "        'False_Positives': fp,\n",
    "        'False_Negatives': fn,\n",
    "        'Specificity': tn / (tn + fp) if (tn + fp) > 0 else 0\n",
    "    }\n",
    "    comparison_metrics.append(metrics)\n",
    "\n",
    "# Create comparison dataframe\n",
    "metrics_df = pd.DataFrame(comparison_metrics)\n",
    "metrics_df = metrics_df.sort_values('F1_Score', ascending=False)\n",
    "\n",
    "print(\"📊 Comprehensive Algorithm Comparison\")\n",
    "print(\"=\"*80)\n",
    "print(metrics_df[['Algorithm', 'F1_Score', 'Balanced_Accuracy', 'Precision', 'Recall', 'ROC_AUC']].to_string(index=False))\n",
    "\n",
    "print(f\"\\n🏆 Algorithm Performance Insights:\")\n",
    "print(f\"=\"*50)\n",
    "print(f\"🥇 Best Overall: {metrics_df.iloc[0]['Algorithm']} (F1: {metrics_df.iloc[0]['F1_Score']:.3f})\")\n",
    "print(f\"🥈 Second Best: {metrics_df.iloc[1]['Algorithm']} (F1: {metrics_df.iloc[1]['F1_Score']:.3f})\")\n",
    "print(f\"⚡ Fastest Methods: HBOS, COPOD, ECOD (statistical approaches)\")\n",
    "print(f\"🎯 Most Robust: Isolation Forest (handles mixed data types well)\")\n",
    "print(f\"🔍 Most Interpretable: KNN (distance-based reasoning)\")\n",
    "\n",
    "# Identify perfect performers\n",
    "perfect_algos = metrics_df[metrics_df['F1_Score'] == 1.0]['Algorithm'].tolist()\n",
    "if perfect_algos:\n",
    "    print(f\"✨ Perfect Detection: {', '.join(perfect_algos)}\")\n",
    "    print(f\"   This suggests our synthetic dataset has well-separated anomalies!\")"
   ]
  },
  {
   "cell_type": "code",
   "execution_count": 63,
   "metadata": {},
   "outputs": [
    {
     "name": "stdout",
     "output_type": "stream",
     "text": [
      "📊 Comprehensive Algorithm Comparison\n",
      "================================================================================\n",
      "Algorithm  F1_Score  Balanced_Accuracy  Precision  Recall  ROC_AUC  True_Positives  False_Positives  False_Negatives\n",
      "  IForest      1.00               1.00       1.00    1.00     1.00             500                0                0\n",
      "     HBOS      1.00               1.00       1.00    1.00     1.00             500                0                0\n",
      "    OCSVM      1.00               1.00       1.00    1.00     1.00             500                0                0\n",
      "    COPOD      1.00               1.00       1.00    1.00     1.00             500                0                0\n",
      "     ECOD      1.00               1.00       1.00    1.00     1.00             500                0                0\n",
      "      KNN      0.92               0.95       0.94    0.90     1.00             451               31               49\n",
      "      LOF      0.10               0.52       0.10    0.09     0.35              44              376              456\n"
     ]
    }
   ],
   "source": [
    "# Store all results for comparison\n",
    "results = {\n",
    "    'KNN': {'predictions': knn_predictions, 'scores': knn_scores},\n",
    "    'LOF': {'predictions': lof_predictions, 'scores': lof_scores},\n",
    "    'IForest': {'predictions': iforest_predictions, 'scores': iforest_scores},\n",
    "    'OCSVM': {'predictions': ocsvm_predictions, 'scores': ocsvm_scores},\n",
    "    'HBOS': {'predictions': hbos_predictions, 'scores': hbos_detector.decision_scores_},\n",
    "    'COPOD': {'predictions': copod_predictions, 'scores': copod_detector.decision_scores_},\n",
    "    'ECOD': {'predictions': ecod_predictions, 'scores': ecod_detector.decision_scores_}\n",
    "}\n",
    "\n",
    "# Calculate metrics for all algorithms\n",
    "comparison_metrics = []\n",
    "for name, result in results.items():\n",
    "    preds = result['predictions']\n",
    "    scores = result['scores']\n",
    "    \n",
    "    # Calculate metrics\n",
    "    tn, fp, fn, tp = confusion_matrix(y, preds).ravel()\n",
    "    \n",
    "    metrics = {\n",
    "        'Algorithm': name,\n",
    "        'F1_Score': f1_score(y, preds),\n",
    "        'Balanced_Accuracy': balanced_accuracy_score(y, preds),\n",
    "        'Precision': tp / (tp + fp) if (tp + fp) > 0 else 0,\n",
    "        'Recall': tp / (tp + fn) if (tp + fn) > 0 else 0,\n",
    "        'ROC_AUC': roc_auc_score(y, scores),\n",
    "        'True_Positives': tp,\n",
    "        'False_Positives': fp,\n",
    "        'False_Negatives': fn\n",
    "    }\n",
    "    comparison_metrics.append(metrics)\n",
    "\n",
    "# Create comparison dataframe\n",
    "metrics_df = pd.DataFrame(comparison_metrics)\n",
    "metrics_df = metrics_df.sort_values('F1_Score', ascending=False)\n",
    "\n",
    "print(\"📊 Comprehensive Algorithm Comparison\")\n",
    "print(\"=\"*80)\n",
    "print(metrics_df.to_string(index=False))"
   ]
  },
  {
   "cell_type": "code",
   "execution_count": 64,
   "metadata": {},
   "outputs": [
    {
     "data": {
      "image/png": "[encoded data removed]",
      "text/plain": [
       "<Figure size 1400x1000 with 4 Axes>"
      ]
     },
     "metadata": {},
     "output_type": "display_data"
    }
   ],
   "source": [
    "# Visualize performance comparison\n",
    "fig, axes = plt.subplots(2, 2, figsize=(14, 10))\n",
    "\n",
    "# F1 Score comparison\n",
    "metrics_df.plot(x='Algorithm', y='F1_Score', kind='bar', ax=axes[0, 0], color='skyblue')\n",
    "axes[0, 0].set_title('F1 Score Comparison')\n",
    "axes[0, 0].set_ylabel('F1 Score')\n",
    "axes[0, 0].set_ylim(0, 1)\n",
    "axes[0, 0].tick_params(axis='x', rotation=45)\n",
    "\n",
    "# ROC AUC comparison\n",
    "metrics_df.plot(x='Algorithm', y='ROC_AUC', kind='bar', ax=axes[0, 1], color='lightcoral')\n",
    "axes[0, 1].set_title('ROC AUC Score Comparison')\n",
    "axes[0, 1].set_ylabel('ROC AUC')\n",
    "axes[0, 1].set_ylim(0, 1)\n",
    "axes[0, 1].tick_params(axis='x', rotation=45)\n",
    "\n",
    "# Precision vs Recall\n",
    "axes[1, 0].scatter(metrics_df['Recall'], metrics_df['Precision'], s=100)\n",
    "for i, txt in enumerate(metrics_df['Algorithm']):\n",
    "    axes[1, 0].annotate(txt, (metrics_df['Recall'].iloc[i], metrics_df['Precision'].iloc[i]))\n",
    "axes[1, 0].set_xlabel('Recall')\n",
    "axes[1, 0].set_ylabel('Precision')\n",
    "axes[1, 0].set_title('Precision vs Recall Trade-off')\n",
    "axes[1, 0].grid(True, alpha=0.3)\n",
    "\n",
    "# Detection counts\n",
    "detection_data = metrics_df[['Algorithm', 'True_Positives', 'False_Positives']].set_index('Algorithm')\n",
    "detection_data.plot(kind='bar', stacked=True, ax=axes[1, 1], color=['green', 'red'])\n",
    "axes[1, 1].set_title('Detection Breakdown')\n",
    "axes[1, 1].set_ylabel('Number of Detections')\n",
    "axes[1, 1].tick_params(axis='x', rotation=45)\n",
    "axes[1, 1].legend(['True Positives', 'False Positives'])\n",
    "\n",
    "plt.suptitle('Anomaly Detection Algorithm Performance Comparison', fontsize=16, y=1.02)\n",
    "plt.tight_layout()\n",
    "plt.show()"
   ]
  },
  {
   "cell_type": "markdown",
   "metadata": {},
   "source": [
    "## 9. Ensemble Methods for Robust Detection\n",
    "\n",
    "Combining multiple detectors can improve performance and robustness."
   ]
  },
  {
   "cell_type": "code",
   "execution_count": 65,
   "metadata": {},
   "outputs": [
    {
     "name": "stdout",
     "output_type": "stream",
     "text": [
      "🔄 Ensemble Methods Performance:\n",
      "==================================================\n",
      "Average Ensemble - F1: 1.0000, Balanced Acc: 1.0000\n",
      "Maximum Ensemble - F1: 1.0000, Balanced Acc: 1.0000\n"
     ]
    }
   ],
   "source": [
    "from pyod.models.combination import average, maximization, majority_vote\n",
    "\n",
    "# Collect all anomaly scores\n",
    "all_scores = np.column_stack([\n",
    "    results['KNN']['scores'],\n",
    "    results['LOF']['scores'],\n",
    "    results['IForest']['scores'],\n",
    "    results['OCSVM']['scores']\n",
    "])\n",
    "\n",
    "# Normalize scores to [0, 1] range\n",
    "from sklearn.preprocessing import MinMaxScaler\n",
    "scaler = MinMaxScaler()\n",
    "all_scores_normalized = scaler.fit_transform(all_scores)\n",
    "\n",
    "# Average ensemble\n",
    "ensemble_avg_scores = np.mean(all_scores_normalized, axis=1)\n",
    "ensemble_avg_pred = (ensemble_avg_scores > np.percentile(ensemble_avg_scores, 95)).astype(int)\n",
    "\n",
    "# Maximum ensemble (most aggressive)\n",
    "ensemble_max_scores = np.max(all_scores_normalized, axis=1)\n",
    "ensemble_max_pred = (ensemble_max_scores > np.percentile(ensemble_max_scores, 95)).astype(int)\n",
    "\n",
    "print(\"🔄 Ensemble Methods Performance:\")\n",
    "print(\"=\"*50)\n",
    "print(f\"Average Ensemble - F1: {f1_score(y, ensemble_avg_pred):.4f}, Balanced Acc: {balanced_accuracy_score(y, ensemble_avg_pred):.4f}\")\n",
    "print(f\"Maximum Ensemble - F1: {f1_score(y, ensemble_max_pred):.4f}, Balanced Acc: {balanced_accuracy_score(y, ensemble_max_pred):.4f}\")"
   ]
  },
  {
   "cell_type": "markdown",
   "metadata": {},
   "source": [
    "## 10. Analyzing Detection Results\n",
    "\n",
    "Let's understand what our best performing model found."
   ]
  },
  {
   "cell_type": "code",
   "execution_count": 66,
   "metadata": {},
   "outputs": [
    {
     "name": "stdout",
     "output_type": "stream",
     "text": [
      "🏆 Best Model: IForest\n",
      "==================================================\n",
      "\n",
      "❌ False Positives: 0\n",
      "Average characteristics of false positives:\n",
      "total_warranty_cost   NaN\n",
      "number_of_claims      NaN\n",
      "vehicle_age_months    NaN\n",
      "dtype: float64\n",
      "\n",
      "❌ False Negatives: 0\n",
      "Types of anomalies missed:\n",
      "Series([], Name: count, dtype: int64)\n"
     ]
    }
   ],
   "source": [
    "# Use the best performing model (based on F1 score)\n",
    "best_model = metrics_df.iloc[0]['Algorithm']\n",
    "best_predictions = results[best_model]['predictions']\n",
    "best_scores = results[best_model]['scores']\n",
    "\n",
    "print(f\"🏆 Best Model: {best_model}\")\n",
    "print(\"=\"*50)\n",
    "\n",
    "# Add predictions to dataframe\n",
    "df['predicted_anomaly'] = best_predictions\n",
    "df['anomaly_score'] = best_scores\n",
    "\n",
    "# Analyze false positives\n",
    "false_positives = df[(df['is_anomaly'] == 0) & (df['predicted_anomaly'] == 1)]\n",
    "print(f\"\\n❌ False Positives: {len(false_positives)}\")\n",
    "print(\"Average characteristics of false positives:\")\n",
    "print(false_positives[['total_warranty_cost', 'number_of_claims', 'vehicle_age_months']].mean())\n",
    "\n",
    "# Analyze false negatives\n",
    "false_negatives = df[(df['is_anomaly'] == 1) & (df['predicted_anomaly'] == 0)]\n",
    "print(f\"\\n❌ False Negatives: {len(false_negatives)}\")\n",
    "print(\"Types of anomalies missed:\")\n",
    "print(false_negatives['anomaly_type'].value_counts())"
   ]
  },
  {
   "cell_type": "code",
   "execution_count": 67,
   "metadata": {},
   "outputs": [
    {
     "data": {
      "application/vnd.plotly.v1+json": {
       "config": {
        "plotlyServerURL": "https://plot.ly"
       },
       "data": [
        {
         "marker": {
          "color": "blue",
          "opacity": 0.5,
          "size": 5
         },
         "mode": "markers",
         "name": "True Negative",
         "type": "scatter",
         "x": {
          "bdata": "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",
          "dtype": "f8"
         },
         "y": {
          "bdata": "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",
          "dtype": "f8"
         }
        },
        {
         "marker": {
          "color": "red",
          "opacity": 0.7,
          "size": 7
         },
         "mode": "markers",
         "name": "True Positive",
         "type": "scatter",
         "x": {
          "bdata": "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",
          "dtype": "f8"
         },
         "y": {
          "bdata": "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",
          "dtype": "f8"
         }
        },
        {
         "marker": {
          "color": "orange",
          "size": 8,
          "symbol": "x"
         },
         "mode": "markers",
         "name": "False Positive",
         "type": "scatter",
         "x": [],
         "y": []
        },
        {
         "marker": {
          "color": "purple",
          "size": 8,
          "symbol": "diamond"
         },
         "mode": "markers",
         "name": "False Negative",
         "type": "scatter",
         "x": [],
         "y": []
        }
       ],
       "layout": {
        "height": 600,
        "template": {
         "data": {
          "bar": [
           {
            "error_x": {
             "color": "#2a3f5f"
            },
            "error_y": {
             "color": "#2a3f5f"
            },
            "marker": {
             "line": {
              "color": "#E5ECF6",
              "width": 0.5
             },
             "pattern": {
              "fillmode": "overlay",
              "size": 10,
              "solidity": 0.2
             }
            },
            "type": "bar"
           }
          ],
          "barpolar": [
           {
            "marker": {
             "line": {
              "color": "#E5ECF6",
              "width": 0.5
             },
             "pattern": {
              "fillmode": "overlay",
              "size": 10,
              "solidity": 0.2
             }
            },
            "type": "barpolar"
           }
          ],
          "carpet": [
           {
            "aaxis": {
             "endlinecolor": "#2a3f5f",
             "gridcolor": "white",
             "linecolor": "white",
             "minorgridcolor": "white",
             "startlinecolor": "#2a3f5f"
            },
            "baxis": {
             "endlinecolor": "#2a3f5f",
             "gridcolor": "white",
             "linecolor": "white",
             "minorgridcolor": "white",
             "startlinecolor": "#2a3f5f"
            },
            "type": "carpet"
           }
          ],
          "choropleth": [
           {
            "colorbar": {
             "outlinewidth": 0,
             "ticks": ""
            },
            "type": "choropleth"
           }
          ],
          "contour": [
           {
            "colorbar": {
             "outlinewidth": 0,
             "ticks": ""
            },
            "colorscale": [
             [
              0,
              "#0d0887"
             ],
             [
              0.1111111111111111,
              "#46039f"
             ],
             [
              0.2222222222222222,
              "#7201a8"
             ],
             [
              0.3333333333333333,
              "#9c179e"
             ],
             [
              0.4444444444444444,
              "#bd3786"
             ],
             [
              0.5555555555555556,
              "#d8576b"
             ],
             [
              0.6666666666666666,
              "#ed7953"
             ],
             [
              0.7777777777777778,
              "#fb9f3a"
             ],
             [
              0.8888888888888888,
              "#fdca26"
             ],
             [
              1,
              "#f0f921"
             ]
            ],
            "type": "contour"
           }
          ],
          "contourcarpet": [
           {
            "colorbar": {
             "outlinewidth": 0,
             "ticks": ""
            },
            "type": "contourcarpet"
           }
          ],
          "heatmap": [
           {
            "colorbar": {
             "outlinewidth": 0,
             "ticks": ""
            },
            "colorscale": [
             [
              0,
              "#0d0887"
             ],
             [
              0.1111111111111111,
              "#46039f"
             ],
             [
              0.2222222222222222,
              "#7201a8"
             ],
             [
              0.3333333333333333,
              "#9c179e"
             ],
             [
              0.4444444444444444,
              "#bd3786"
             ],
             [
              0.5555555555555556,
              "#d8576b"
             ],
             [
              0.6666666666666666,
              "#ed7953"
             ],
             [
              0.7777777777777778,
              "#fb9f3a"
             ],
             [
              0.8888888888888888,
              "#fdca26"
             ],
             [
              1,
              "#f0f921"
             ]
            ],
            "type": "heatmap"
           }
          ],
          "histogram": [
           {
            "marker": {
             "pattern": {
              "fillmode": "overlay",
              "size": 10,
              "solidity": 0.2
             }
            },
            "type": "histogram"
           }
          ],
          "histogram2d": [
           {
            "colorbar": {
             "outlinewidth": 0,
             "ticks": ""
            },
            "colorscale": [
             [
              0,
              "#0d0887"
             ],
             [
              0.1111111111111111,
              "#46039f"
             ],
             [
              0.2222222222222222,
              "#7201a8"
             ],
             [
              0.3333333333333333,
              "#9c179e"
             ],
             [
              0.4444444444444444,
              "#bd3786"
             ],
             [
              0.5555555555555556,
              "#d8576b"
             ],
             [
              0.6666666666666666,
              "#ed7953"
             ],
             [
              0.7777777777777778,
              "#fb9f3a"
             ],
             [
              0.8888888888888888,
              "#fdca26"
             ],
             [
              1,
              "#f0f921"
             ]
            ],
            "type": "histogram2d"
           }
          ],
          "histogram2dcontour": [
           {
            "colorbar": {
             "outlinewidth": 0,
             "ticks": ""
            },
            "colorscale": [
             [
              0,
              "#0d0887"
             ],
             [
              0.1111111111111111,
              "#46039f"
             ],
             [
              0.2222222222222222,
              "#7201a8"
             ],
             [
              0.3333333333333333,
              "#9c179e"
             ],
             [
              0.4444444444444444,
              "#bd3786"
             ],
             [
              0.5555555555555556,
              "#d8576b"
             ],
             [
              0.6666666666666666,
              "#ed7953"
             ],
             [
              0.7777777777777778,
              "#fb9f3a"
             ],
             [
              0.8888888888888888,
              "#fdca26"
             ],
             [
              1,
              "#f0f921"
             ]
            ],
            "type": "histogram2dcontour"
           }
          ],
          "mesh3d": [
           {
            "colorbar": {
             "outlinewidth": 0,
             "ticks": ""
            },
            "type": "mesh3d"
           }
          ],
          "parcoords": [
           {
            "line": {
             "colorbar": {
              "outlinewidth": 0,
              "ticks": ""
             }
            },
            "type": "parcoords"
           }
          ],
          "pie": [
           {
            "automargin": true,
            "type": "pie"
           }
          ],
          "scatter": [
           {
            "fillpattern": {
             "fillmode": "overlay",
             "size": 10,
             "solidity": 0.2
            },
            "type": "scatter"
           }
          ],
          "scatter3d": [
           {
            "line": {
             "colorbar": {
              "outlinewidth": 0,
              "ticks": ""
             }
            },
            "marker": {
             "colorbar": {
              "outlinewidth": 0,
              "ticks": ""
             }
            },
            "type": "scatter3d"
           }
          ],
          "scattercarpet": [
           {
            "marker": {
             "colorbar": {
              "outlinewidth": 0,
              "ticks": ""
             }
            },
            "type": "scattercarpet"
           }
          ],
          "scattergeo": [
           {
            "marker": {
             "colorbar": {
              "outlinewidth": 0,
              "ticks": ""
             }
            },
            "type": "scattergeo"
           }
          ],
          "scattergl": [
           {
            "marker": {
             "colorbar": {
              "outlinewidth": 0,
              "ticks": ""
             }
            },
            "type": "scattergl"
           }
          ],
          "scattermap": [
           {
            "marker": {
             "colorbar": {
              "outlinewidth": 0,
              "ticks": ""
             }
            },
            "type": "scattermap"
           }
          ],
          "scattermapbox": [
           {
            "marker": {
             "colorbar": {
              "outlinewidth": 0,
              "ticks": ""
             }
            },
            "type": "scattermapbox"
           }
          ],
          "scatterpolar": [
           {
            "marker": {
             "colorbar": {
              "outlinewidth": 0,
              "ticks": ""
             }
            },
            "type": "scatterpolar"
           }
          ],
          "scatterpolargl": [
           {
            "marker": {
             "colorbar": {
              "outlinewidth": 0,
              "ticks": ""
             }
            },
            "type": "scatterpolargl"
           }
          ],
          "scatterternary": [
           {
            "marker": {
             "colorbar": {
              "outlinewidth": 0,
              "ticks": ""
             }
            },
            "type": "scatterternary"
           }
          ],
          "surface": [
           {
            "colorbar": {
             "outlinewidth": 0,
             "ticks": ""
            },
            "colorscale": [
             [
              0,
              "#0d0887"
             ],
             [
              0.1111111111111111,
              "#46039f"
             ],
             [
              0.2222222222222222,
              "#7201a8"
             ],
             [
              0.3333333333333333,
              "#9c179e"
             ],
             [
              0.4444444444444444,
              "#bd3786"
             ],
             [
              0.5555555555555556,
              "#d8576b"
             ],
             [
              0.6666666666666666,
              "#ed7953"
             ],
             [
              0.7777777777777778,
              "#fb9f3a"
             ],
             [
              0.8888888888888888,
              "#fdca26"
             ],
             [
              1,
              "#f0f921"
             ]
            ],
            "type": "surface"
           }
          ],
          "table": [
           {
            "cells": {
             "fill": {
              "color": "#EBF0F8"
             },
             "line": {
              "color": "white"
             }
            },
            "header": {
             "fill": {
              "color": "#C8D4E3"
             },
             "line": {
              "color": "white"
             }
            },
            "type": "table"
           }
          ]
         },
         "layout": {
          "annotationdefaults": {
           "arrowcolor": "#2a3f5f",
           "arrowhead": 0,
           "arrowwidth": 1
          },
          "autotypenumbers": "strict",
          "coloraxis": {
           "colorbar": {
            "outlinewidth": 0,
            "ticks": ""
           }
          },
          "colorscale": {
           "diverging": [
            [
             0,
             "#8e0152"
            ],
            [
             0.1,
             "#c51b7d"
            ],
            [
             0.2,
             "#de77ae"
            ],
            [
             0.3,
             "#f1b6da"
            ],
            [
             0.4,
             "#fde0ef"
            ],
            [
             0.5,
             "#f7f7f7"
            ],
            [
             0.6,
             "#e6f5d0"
            ],
            [
             0.7,
             "#b8e186"
            ],
            [
             0.8,
             "#7fbc41"
            ],
            [
             0.9,
             "#4d9221"
            ],
            [
             1,
             "#276419"
            ]
           ],
           "sequential": [
            [
             0,
             "#0d0887"
            ],
            [
             0.1111111111111111,
             "#46039f"
            ],
            [
             0.2222222222222222,
             "#7201a8"
            ],
            [
             0.3333333333333333,
             "#9c179e"
            ],
            [
             0.4444444444444444,
             "#bd3786"
            ],
            [
             0.5555555555555556,
             "#d8576b"
            ],
            [
             0.6666666666666666,
             "#ed7953"
            ],
            [
             0.7777777777777778,
             "#fb9f3a"
            ],
            [
             0.8888888888888888,
             "#fdca26"
            ],
            [
             1,
             "#f0f921"
            ]
           ],
           "sequentialminus": [
            [
             0,
             "#0d0887"
            ],
            [
             0.1111111111111111,
             "#46039f"
            ],
            [
             0.2222222222222222,
             "#7201a8"
            ],
            [
             0.3333333333333333,
             "#9c179e"
            ],
            [
             0.4444444444444444,
             "#bd3786"
            ],
            [
             0.5555555555555556,
             "#d8576b"
            ],
            [
             0.6666666666666666,
             "#ed7953"
            ],
            [
             0.7777777777777778,
             "#fb9f3a"
            ],
            [
             0.8888888888888888,
             "#fdca26"
            ],
            [
             1,
             "#f0f921"
            ]
           ]
          },
          "colorway": [
           "#636efa",
           "#EF553B",
           "#00cc96",
           "#ab63fa",
           "#FFA15A",
           "#19d3f3",
           "#FF6692",
           "#B6E880",
           "#FF97FF",
           "#FECB52"
          ],
          "font": {
           "color": "#2a3f5f"
          },
          "geo": {
           "bgcolor": "white",
           "lakecolor": "white",
           "landcolor": "#E5ECF6",
           "showlakes": true,
           "showland": true,
           "subunitcolor": "white"
          },
          "hoverlabel": {
           "align": "left"
          },
          "hovermode": "closest",
          "mapbox": {
           "style": "light"
          },
          "paper_bgcolor": "white",
          "plot_bgcolor": "#E5ECF6",
          "polar": {
           "angularaxis": {
            "gridcolor": "white",
            "linecolor": "white",
            "ticks": ""
           },
           "bgcolor": "#E5ECF6",
           "radialaxis": {
            "gridcolor": "white",
            "linecolor": "white",
            "ticks": ""
           }
          },
          "scene": {
           "xaxis": {
            "backgroundcolor": "#E5ECF6",
            "gridcolor": "white",
            "gridwidth": 2,
            "linecolor": "white",
            "showbackground": true,
            "ticks": "",
            "zerolinecolor": "white"
           },
           "yaxis": {
            "backgroundcolor": "#E5ECF6",
            "gridcolor": "white",
            "gridwidth": 2,
            "linecolor": "white",
            "showbackground": true,
            "ticks": "",
            "zerolinecolor": "white"
           },
           "zaxis": {
            "backgroundcolor": "#E5ECF6",
            "gridcolor": "white",
            "gridwidth": 2,
            "linecolor": "white",
            "showbackground": true,
            "ticks": "",
            "zerolinecolor": "white"
           }
          },
          "shapedefaults": {
           "line": {
            "color": "#2a3f5f"
           }
          },
          "ternary": {
           "aaxis": {
            "gridcolor": "white",
            "linecolor": "white",
            "ticks": ""
           },
           "baxis": {
            "gridcolor": "white",
            "linecolor": "white",
            "ticks": ""
           },
           "bgcolor": "#E5ECF6",
           "caxis": {
            "gridcolor": "white",
            "linecolor": "white",
            "ticks": ""
           }
          },
          "title": {
           "x": 0.05
          },
          "xaxis": {
           "automargin": true,
           "gridcolor": "white",
           "linecolor": "white",
           "ticks": "",
           "title": {
            "standoff": 15
           },
           "zerolinecolor": "white",
           "zerolinewidth": 2
          },
          "yaxis": {
           "automargin": true,
           "gridcolor": "white",
           "linecolor": "white",
           "ticks": "",
           "title": {
            "standoff": 15
           },
           "zerolinecolor": "white",
           "zerolinewidth": 2
          }
         }
        },
        "title": {
         "text": "Detection Results Visualization (IForest)"
        },
        "xaxis": {
         "title": {
          "text": "PC1"
         }
        },
        "yaxis": {
         "title": {
          "text": "PC2"
         }
        }
       }
      }
     },
     "metadata": {},
     "output_type": "display_data"
    }
   ],
   "source": [
    "# Visualize detection results in PCA space\n",
    "fig = go.Figure()\n",
    "\n",
    "# True negatives (correctly identified normal)\n",
    "mask_tn = (df['is_anomaly'] == 0) & (df['predicted_anomaly'] == 0)\n",
    "fig.add_trace(go.Scatter(\n",
    "    x=X_pca[mask_tn, 0], y=X_pca[mask_tn, 1],\n",
    "    mode='markers', name='True Negative',\n",
    "    marker=dict(color='blue', size=5, opacity=0.5)\n",
    "))\n",
    "\n",
    "# True positives (correctly identified anomaly)\n",
    "mask_tp = (df['is_anomaly'] == 1) & (df['predicted_anomaly'] == 1)\n",
    "fig.add_trace(go.Scatter(\n",
    "    x=X_pca[mask_tp, 0], y=X_pca[mask_tp, 1],\n",
    "    mode='markers', name='True Positive',\n",
    "    marker=dict(color='red', size=7, opacity=0.7)\n",
    "))\n",
    "\n",
    "# False positives\n",
    "mask_fp = (df['is_anomaly'] == 0) & (df['predicted_anomaly'] == 1)\n",
    "fig.add_trace(go.Scatter(\n",
    "    x=X_pca[mask_fp, 0], y=X_pca[mask_fp, 1],\n",
    "    mode='markers', name='False Positive',\n",
    "    marker=dict(color='orange', size=8, symbol='x')\n",
    "))\n",
    "\n",
    "# False negatives\n",
    "mask_fn = (df['is_anomaly'] == 1) & (df['predicted_anomaly'] == 0)\n",
    "fig.add_trace(go.Scatter(\n",
    "    x=X_pca[mask_fn, 0], y=X_pca[mask_fn, 1],\n",
    "    mode='markers', name='False Negative',\n",
    "    marker=dict(color='purple', size=8, symbol='diamond')\n",
    "))\n",
    "\n",
    "fig.update_layout(\n",
    "    title=f'Detection Results Visualization ({best_model})',\n",
    "    xaxis_title='PC1',\n",
    "    yaxis_title='PC2',\n",
    "    height=600\n",
    ")\n",
    "fig.show()"
   ]
  },
  {
   "cell_type": "code",
   "execution_count": 68,
   "metadata": {},
   "outputs": [
    {
     "name": "stdout",
     "output_type": "stream",
     "text": [
      "💼 Business Impact Analysis\n",
      "============================================================\n",
      "\n",
      "🎯 Detection Performance:\n",
      "   Anomalies detected: 500/500 (100.0%)\n",
      "   False alarms: 0\n",
      "   Detection accuracy: True\n",
      "\n",
      "💰 Financial Impact Analysis:\n",
      "   Total cost of detected anomalies: ₹92,145,148\n",
      "   Average cost per detected anomaly: ₹184,290\n",
      "   Total cost of missed anomalies: ₹0\n",
      "\n",
      "📈 Potential Savings Scenarios:\n",
      "========================================\n",
      "🔸 20% Prevention Rate:\n",
      "   Potential savings: ₹18,429,030\n",
      "   Investigation costs: ₹2,500,000\n",
      "   Net benefit: ₹15,929,030\n",
      "   ROI: 637.2%\n",
      "\n",
      "🔸 30% Prevention Rate:\n",
      "   Potential savings: ₹27,643,545\n",
      "   Investigation costs: ₹2,500,000\n",
      "   Net benefit: ₹25,143,545\n",
      "   ROI: 1005.7%\n",
      "\n",
      "🔸 50% Prevention Rate:\n",
      "   Potential savings: ₹46,072,574\n",
      "   Investigation costs: ₹2,500,000\n",
      "   Net benefit: ₹43,572,574\n",
      "   ROI: 1742.9%\n",
      "\n",
      "🏢 Enterprise-Scale Impact (100K vehicle fleet):\n",
      "   Projected annual anomalies: 10,000\n",
      "   Projected annual anomaly costs: ₹1,842,902,969\n",
      "   Potential annual savings (30%): ₹552,870,891\n",
      "   Break-even investigation budget: ₹552,870,891\n",
      "\n",
      "💡 Strategic Recommendations:\n",
      "========================================\n",
      "✅ Implement real-time anomaly monitoring\n",
      "✅ Prioritize investigation of high-score anomalies\n",
      "✅ Develop preventive maintenance protocols\n",
      "✅ Create early warning systems for dealers\n",
      "✅ Invest in predictive analytics infrastructure\n"
     ]
    }
   ],
   "source": [
    "# Calculate business metrics\n",
    "print(\"💼 Business Impact Analysis\")\n",
    "print(\"=\"*60)\n",
    "\n",
    "# Cost analysis\n",
    "avg_anomaly_cost = df[df['is_anomaly'] == 1]['total_warranty_cost'].mean()\n",
    "avg_normal_cost = df[df['is_anomaly'] == 0]['total_warranty_cost'].mean()\n",
    "\n",
    "# True positives - anomalies caught\n",
    "tp_mask = (df['is_anomaly'] == 1) & (df['predicted_anomaly'] == 1)\n",
    "caught_anomalies_cost = df[tp_mask]['total_warranty_cost'].sum()\n",
    "n_caught = tp_mask.sum()\n",
    "\n",
    "# False negatives - missed anomalies\n",
    "fn_mask = (df['is_anomaly'] == 1) & (df['predicted_anomaly'] == 0)\n",
    "missed_anomalies_cost = df[fn_mask]['total_warranty_cost'].sum()\n",
    "n_missed = fn_mask.sum()\n",
    "\n",
    "# False positives - unnecessary investigations\n",
    "fp_mask = (df['is_anomaly'] == 0) & (df['predicted_anomaly'] == 1)\n",
    "n_false_alarms = fp_mask.sum()\n",
    "\n",
    "print(f\"\\n🎯 Detection Performance:\")\n",
    "print(f\"   Anomalies detected: {n_caught}/{n_caught + n_missed} ({n_caught/(n_caught + n_missed)*100:.1f}%)\")\n",
    "print(f\"   False alarms: {n_false_alarms}\")\n",
    "print(f\"   Detection accuracy: {(n_caught > 0 and n_missed == 0)}\")\n",
    "\n",
    "print(f\"\\n💰 Financial Impact Analysis:\")\n",
    "print(f\"   Total cost of detected anomalies: ₹{caught_anomalies_cost:,.0f}\")\n",
    "print(f\"   Average cost per detected anomaly: ₹{caught_anomalies_cost/n_caught if n_caught > 0 else 0:,.0f}\")\n",
    "print(f\"   Total cost of missed anomalies: ₹{missed_anomalies_cost:,.0f}\")\n",
    "\n",
    "# Prevention scenarios\n",
    "prevention_rates = [0.2, 0.3, 0.5]  # 20%, 30%, 50% prevention rates\n",
    "investigation_cost = 5000  # Cost to investigate each flagged case\n",
    "\n",
    "print(f\"\\n📈 Potential Savings Scenarios:\")\n",
    "print(f\"=\"*40)\n",
    "for rate in prevention_rates:\n",
    "    potential_savings = caught_anomalies_cost * rate\n",
    "    investigation_costs = (n_caught + n_false_alarms) * investigation_cost\n",
    "    net_savings = potential_savings - investigation_costs\n",
    "    roi = (net_savings / investigation_costs * 100) if investigation_costs > 0 else 0\n",
    "    \n",
    "    print(f\"🔸 {rate*100:.0f}% Prevention Rate:\")\n",
    "    print(f\"   Potential savings: ₹{potential_savings:,.0f}\")\n",
    "    print(f\"   Investigation costs: ₹{investigation_costs:,.0f}\")\n",
    "    print(f\"   Net benefit: ₹{net_savings:,.0f}\")\n",
    "    print(f\"   ROI: {roi:.1f}%\")\n",
    "    print()\n",
    "\n",
    "# Scale to enterprise level\n",
    "fleet_size = 100000  # Assume 100K vehicle fleet\n",
    "annual_scaling_factor = 2  # Assume this pattern repeats twice per year\n",
    "\n",
    "enterprise_detected_anomalies = (n_caught / 10000) * fleet_size * annual_scaling_factor\n",
    "enterprise_anomaly_costs = enterprise_detected_anomalies * (caught_anomalies_cost / n_caught if n_caught > 0 else 0)\n",
    "enterprise_savings_30pct = enterprise_anomaly_costs * 0.3\n",
    "\n",
    "print(f\"🏢 Enterprise-Scale Impact (100K vehicle fleet):\")\n",
    "print(f\"   Projected annual anomalies: {enterprise_detected_anomalies:,.0f}\")\n",
    "print(f\"   Projected annual anomaly costs: ₹{enterprise_anomaly_costs:,.0f}\")\n",
    "print(f\"   Potential annual savings (30%): ₹{enterprise_savings_30pct:,.0f}\")\n",
    "print(f\"   Break-even investigation budget: ₹{enterprise_savings_30pct:,.0f}\")\n",
    "\n",
    "print(f\"\\n💡 Strategic Recommendations:\")\n",
    "print(f\"=\"*40)\n",
    "print(f\"✅ Implement real-time anomaly monitoring\")\n",
    "print(f\"✅ Prioritize investigation of high-score anomalies\")\n",
    "print(f\"✅ Develop preventive maintenance protocols\")\n",
    "print(f\"✅ Create early warning systems for dealers\")\n",
    "print(f\"✅ Invest in predictive analytics infrastructure\")"
   ]
  },
  {
   "cell_type": "code",
   "execution_count": 69,
   "metadata": {},
   "outputs": [
    {
     "name": "stdout",
     "output_type": "stream",
     "text": [
      "💼 Business Impact Analysis\n",
      "============================================================\n",
      "\n",
      "🎯 Detection Performance:\n",
      "   Anomalies detected: 500/500 (100.0%)\n",
      "   False alarms: 0\n",
      "\n",
      "💰 Cost Impact:\n",
      "   Total cost of caught anomalies: ₹92,145,148\n",
      "   Average cost per caught anomaly: ₹184,290\n",
      "   Total cost of missed anomalies: ₹0\n",
      "   Potential savings if all caught: ₹27,643,545 (assuming 30% prevention rate)\n",
      "\n",
      "📈 Return on Investment:\n",
      "   Investigation cost: ₹2,500,000\n",
      "   Potential savings: ₹27,643,545\n",
      "   ROI: 1005.7%\n"
     ]
    }
   ],
   "source": [
    "# Calculate business metrics\n",
    "print(\"💼 Business Impact Analysis\")\n",
    "print(\"=\"*60)\n",
    "\n",
    "# Cost analysis\n",
    "avg_anomaly_cost = df[df['is_anomaly'] == 1]['total_warranty_cost'].mean()\n",
    "avg_normal_cost = df[df['is_anomaly'] == 0]['total_warranty_cost'].mean()\n",
    "\n",
    "# True positives - anomalies caught\n",
    "tp_mask = (df['is_anomaly'] == 1) & (df['predicted_anomaly'] == 1)\n",
    "caught_anomalies_cost = df[tp_mask]['total_warranty_cost'].sum()\n",
    "n_caught = tp_mask.sum()\n",
    "\n",
    "# False negatives - missed anomalies\n",
    "fn_mask = (df['is_anomaly'] == 1) & (df['predicted_anomaly'] == 0)\n",
    "missed_anomalies_cost = df[fn_mask]['total_warranty_cost'].sum()\n",
    "n_missed = fn_mask.sum()\n",
    "\n",
    "print(f\"\\n🎯 Detection Performance:\")\n",
    "print(f\"   Anomalies detected: {n_caught}/{n_caught + n_missed} ({n_caught/(n_caught + n_missed)*100:.1f}%)\")\n",
    "print(f\"   False alarms: {(df['predicted_anomaly'] == 1).sum() - n_caught}\")\n",
    "\n",
    "print(f\"\\n💰 Cost Impact:\")\n",
    "print(f\"   Total cost of caught anomalies: ₹{caught_anomalies_cost:,.0f}\")\n",
    "print(f\"   Average cost per caught anomaly: ₹{caught_anomalies_cost/n_caught:,.0f}\")\n",
    "print(f\"   Total cost of missed anomalies: ₹{missed_anomalies_cost:,.0f}\")\n",
    "print(f\"   Potential savings if all caught: ₹{caught_anomalies_cost * 0.3:,.0f} (assuming 30% prevention rate)\")\n",
    "\n",
    "# ROI calculation\n",
    "investigation_cost = 5000  # Cost to investigate each flagged case\n",
    "prevention_rate = 0.3  # 30% of caught anomalies can be prevented\n",
    "total_investigation_cost = (df['predicted_anomaly'] == 1).sum() * investigation_cost\n",
    "total_savings = caught_anomalies_cost * prevention_rate\n",
    "roi = (total_savings - total_investigation_cost) / total_investigation_cost * 100\n",
    "\n",
    "print(f\"\\n📈 Return on Investment:\")\n",
    "print(f\"   Investigation cost: ₹{total_investigation_cost:,.0f}\")\n",
    "print(f\"   Potential savings: ₹{total_savings:,.0f}\")\n",
    "print(f\"   ROI: {roi:.1f}%\")"
   ]
  },
  {
   "cell_type": "code",
   "execution_count": 70,
   "metadata": {},
   "outputs": [
    {
     "name": "stdout",
     "output_type": "stream",
     "text": [
      "\n",
      "🚗 High-Risk Vehicle Segments:\n",
      "==================================================\n",
      "              Anomaly_Rate  Avg_Warranty_Cost  Count\n",
      "vehicle_type                                        \n",
      "Electric              0.20           82956.52    570\n",
      "SUV                   0.05           61766.99   2438\n",
      "MPV                   0.04           62130.65   1476\n",
      "Hatchback             0.04           58977.21   2507\n",
      "Sedan                 0.04           59091.36   3009\n",
      "\n",
      "🌍 Regional Risk Analysis:\n",
      "==================================================\n",
      "           Anomaly_Rate  Avg_Warranty_Cost\n",
      "region                                    \n",
      "Northeast          0.14           71080.65\n",
      "Central            0.07           63039.53\n",
      "East               0.06           63575.86\n",
      "West               0.05           60976.03\n",
      "North              0.04           60134.98\n",
      "South              0.03           59370.34\n"
     ]
    }
   ],
   "source": [
    "# Identify high-risk vehicle segments\n",
    "risk_analysis = df.groupby('vehicle_type').agg({\n",
    "    'predicted_anomaly': 'mean',\n",
    "    'total_warranty_cost': 'mean',\n",
    "    'vehicle_id': 'count'\n",
    "}).round(3)\n",
    "\n",
    "risk_analysis.columns = ['Anomaly_Rate', 'Avg_Warranty_Cost', 'Count']\n",
    "risk_analysis = risk_analysis.sort_values('Anomaly_Rate', ascending=False)\n",
    "\n",
    "print(\"\\n🚗 High-Risk Vehicle Segments:\")\n",
    "print(\"=\"*50)\n",
    "print(risk_analysis)\n",
    "\n",
    "# Regional risk analysis\n",
    "regional_risk = df.groupby('region').agg({\n",
    "    'predicted_anomaly': 'mean',\n",
    "    'total_warranty_cost': 'mean'\n",
    "}).round(3)\n",
    "\n",
    "regional_risk.columns = ['Anomaly_Rate', 'Avg_Warranty_Cost']\n",
    "regional_risk = regional_risk.sort_values('Anomaly_Rate', ascending=False)\n",
    "\n",
    "print(\"\\n🌍 Regional Risk Analysis:\")\n",
    "print(\"=\"*50)\n",
    "print(regional_risk)"
   ]
  },
  {
   "cell_type": "markdown",
   "metadata": {},
   "source": [
    "## 12. Semi-Supervised Learning Approach\n",
    "\n",
    "What if we only had labels for a small portion of our data?"
   ]
  },
  {
   "cell_type": "code",
   "execution_count": null,
   "metadata": {},
   "outputs": [
    {
     "name": "stdout",
     "output_type": "stream",
     "text": [
      "🔄 Semi-Supervised Learning Setup:\n",
      "==================================================\n",
      "Labeled samples: 1000 (10.0%)\n",
      "Unlabeled samples: 9000 (90.0%)\n",
      "Epoch 1/50, loss=0.8963, time=0.56s\n",
      "Epoch 2/50, loss=0.7797, time=0.49s\n",
      "Epoch 3/50, loss=0.7559, time=0.49s\n",
      "Epoch 4/50, loss=0.7278, time=0.51s\n",
      "Epoch 5/50, loss=0.7166, time=0.99s\n",
      "Epoch 6/50, loss=0.7193, time=1.35s\n",
      "Epoch 7/50, loss=0.7041, time=1.35s\n",
      "Epoch 8/50, loss=0.6947, time=0.63s\n",
      "Epoch 9/50, loss=0.6844, time=0.51s\n",
      "Epoch 10/50, loss=0.6841, time=0.50s\n",
      "Epoch 11/50, loss=0.6660, time=0.50s\n",
      "Epoch 12/50, loss=0.6607, time=0.50s\n",
      "Epoch 13/50, loss=0.6527, time=0.50s\n",
      "Epoch 14/50, loss=0.6453, time=0.50s\n",
      "Epoch 15/50, loss=0.6460, time=0.50s\n",
      "Epoch 16/50, loss=0.6387, time=0.49s\n",
      "Epoch 17/50, loss=0.6420, time=0.50s\n",
      "Epoch 18/50, loss=0.6345, time=0.50s\n",
      "Epoch 19/50, loss=0.6265, time=0.50s\n",
      "Epoch 20/50, loss=0.6243, time=0.50s\n",
      "Epoch 21/50, loss=0.6194, time=0.51s\n",
      "Epoch 22/50, loss=0.6230, time=0.53s\n",
      "Epoch 23/50, loss=0.6203, time=0.50s\n",
      "Epoch 24/50, loss=0.6184, time=0.51s\n",
      "Epoch 25/50, loss=0.6174, time=0.50s\n",
      "Epoch 26/50, loss=0.6127, time=0.50s\n",
      "Epoch 27/50, loss=0.6148, time=0.51s\n",
      "Epoch 28/50, loss=0.6108, time=0.50s\n",
      "Epoch 29/50, loss=0.6095, time=0.50s\n",
      "Epoch 30/50, loss=0.6114, time=0.49s\n",
      "Epoch 31/50, loss=0.6060, time=0.50s\n",
      "Epoch 32/50, loss=0.6097, time=0.50s\n",
      "Epoch 33/50, loss=0.6039, time=0.51s\n",
      "Epoch 34/50, loss=0.6061, time=0.49s\n",
      "Epoch 35/50, loss=0.6051, time=0.50s\n",
      "Epoch 36/50, loss=0.6060, time=0.50s\n",
      "Epoch 37/50, loss=0.6066, time=0.51s\n",
      "Epoch 38/50, loss=0.6048, time=0.50s\n",
      "Epoch 39/50, loss=0.5991, time=0.50s\n",
      "Epoch 40/50, loss=0.5997, time=1.35s\n",
      "Epoch 41/50, loss=0.6051, time=1.34s\n",
      "Epoch 42/50, loss=0.6011, time=1.35s\n",
      "Epoch 43/50, loss=0.5975, time=1.34s\n",
      "Epoch 44/50, loss=0.6001, time=0.64s\n",
      "Epoch 45/50, loss=0.6000, time=1.35s\n",
      "Epoch 46/50, loss=0.5997, time=1.35s\n",
      "Epoch 47/50, loss=0.5963, time=1.35s\n",
      "Epoch 48/50, loss=0.5977, time=1.34s\n",
      "Epoch 49/50, loss=0.5998, time=1.35s\n",
      "Epoch 50/50, loss=0.5988, time=0.50s\n",
      "\n",
      "🤖 AutoEncoder Performance:\n",
      "F1 Score: 1.0000\n",
      "Balanced Accuracy: 1.0000\n"
     ]
    }
   ],
   "source": [
    "from pyod.models.auto_encoder import AutoEncoder\n",
    "# Simulate semi-supervised scenario: only 10% labeled data\n",
    "n_labeled = int(0.1 * len(X_scaled))\n",
    "labeled_idx = np.random.choice(len(X_scaled), n_labeled, replace=False)\n",
    "unlabeled_idx = np.setdiff1d(np.arange(len(X_scaled)), labeled_idx)\n",
    "\n",
    "print(\"🔄 Semi-Supervised Learning Setup:\")\n",
    "print(\"=\"*50)\n",
    "print(f\"Labeled samples: {len(labeled_idx)} ({len(labeled_idx)/len(X_scaled)*100:.1f}%)\")\n",
    "print(f\"Unlabeled samples: {len(unlabeled_idx)} ({len(unlabeled_idx)/len(X_scaled)*100:.1f}%)\")\n",
    "\n",
    "# Train on all data (simulating using unlabeled data structure)\n",
    "# AutoEncoder approach\n",
    "ae_detector = AutoEncoder(\n",
    "    hidden_neuron_list=[32, 16, 16, 32],\n",
    "    contamination=0.05,\n",
    "    epoch_num=50,\n",
    "    verbose=2\n",
    ")\n",
    "\n",
    "ae_detector.fit(X_scaled)\n",
    "ae_predictions = ae_detector.predict(X_scaled)\n",
    "\n",
    "print(f\"\\n🤖 AutoEncoder Performance:\")\n",
    "print(f\"F1 Score: {f1_score(y, ae_predictions):.4f}\")\n",
    "print(f\"Balanced Accuracy: {balanced_accuracy_score(y, ae_predictions):.4f}\")"
   ]
  },
  {
   "cell_type": "markdown",
   "metadata": {},
   "source": [
    "## 13. Model Interpretation and Feature Importance\n",
    "\n",
    "Understanding which features contribute most to anomaly detection."
   ]
  },
  {
   "cell_type": "code",
   "execution_count": 72,
   "metadata": {},
   "outputs": [
    {
     "name": "stdout",
     "output_type": "stream",
     "text": [
      "🔍 Top 15 Most Important Features for Anomaly Detection:\n",
      "============================================================\n",
      "electrical_risk_score          | Importance: 0.2271\n",
      "brakes_risk_score              | Importance: 0.1595\n",
      "battery_risk_score             | Importance: 0.1497\n",
      "ac_cooling_risk_score          | Importance: 0.1000\n",
      "suspension_risk_score          | Importance: 0.0960\n",
      "exhaust_risk_score             | Importance: 0.0808\n",
      "engine_risk_score              | Importance: 0.0716\n",
      "transmission_risk_score        | Importance: 0.0611\n",
      "warranty_usage_ratio           | Importance: 0.0171\n",
      "previous_claims_count          | Importance: 0.0110\n",
      "number_of_claims               | Importance: 0.0098\n",
      "total_warranty_cost            | Importance: 0.0097\n",
      "avg_speed_kmph                 | Importance: 0.0025\n",
      "avg_daily_runtime_hours        | Importance: 0.0024\n",
      "current_mileage                | Importance: 0.0017\n"
     ]
    },
    {
     "data": {
      "image/png": "[encoded data removed]",
      "text/plain": [
       "<Figure size 1000x800 with 1 Axes>"
      ]
     },
     "metadata": {},
     "output_type": "display_data"
    }
   ],
   "source": [
    "# Feature importance using permutation\n",
    "from sklearn.inspection import permutation_importance\n",
    "from sklearn.ensemble import RandomForestClassifier\n",
    "\n",
    "# Train a Random Forest for interpretability\n",
    "rf_model = RandomForestClassifier(n_estimators=100, random_state=42)\n",
    "rf_model.fit(X_scaled, y)\n",
    "\n",
    "# Get feature importance\n",
    "feature_importance = pd.DataFrame({\n",
    "    'feature': feature_cols,\n",
    "    'importance': rf_model.feature_importances_\n",
    "}).sort_values('importance', ascending=False).head(15)\n",
    "\n",
    "print(\"🔍 Top 15 Most Important Features for Anomaly Detection:\")\n",
    "print(\"=\"*60)\n",
    "for idx, row in feature_importance.iterrows():\n",
    "    print(f\"{row['feature']:30} | Importance: {row['importance']:.4f}\")\n",
    "\n",
    "# Visualize\n",
    "plt.figure(figsize=(10, 8))\n",
    "plt.barh(range(len(feature_importance)), feature_importance['importance'])\n",
    "plt.yticks(range(len(feature_importance)), feature_importance['feature'])\n",
    "plt.xlabel('Feature Importance')\n",
    "plt.title('Top 15 Features for Anomaly Detection')\n",
    "plt.tight_layout()\n",
    "plt.show()"
   ]
  },
  {
   "cell_type": "markdown",
   "metadata": {},
   "source": [
    "## 14. Practical Recommendations and Best Practices"
   ]
  },
  {
   "cell_type": "code",
   "execution_count": 73,
   "metadata": {},
   "outputs": [
    {
     "name": "stdout",
     "output_type": "stream",
     "text": [
      "📝 ANOMALY DETECTION BEST PRACTICES\n",
      "============================================================\n",
      "\n",
      "📌 Algorithm Selection:\n",
      "   • Use Isolation Forest for high-dimensional data\n",
      "     → Performs well with many features and is computationally efficient\n",
      "   • Use LOF for local density variations\n",
      "     → Excellent for datasets with varying densities\n",
      "\n",
      "📌 Preprocessing:\n",
      "   • Always standardize features\n",
      "     → Distance-based methods are sensitive to scale\n",
      "\n",
      "📌 Evaluation:\n",
      "   • Use F1 Score and Balanced Accuracy\n",
      "     → Better metrics for imbalanced datasets than accuracy\n",
      "\n",
      "📌 Business:\n",
      "   • Set contamination based on business constraints\n",
      "     → Balance between catching anomalies and investigation costs\n",
      "\n",
      "📌 Production:\n",
      "   • Use ensemble methods for critical applications\n",
      "     → More robust and reduces false positives\n"
     ]
    }
   ],
   "source": [
    "print(\"📝 ANOMALY DETECTION BEST PRACTICES\")\n",
    "print(\"=\"*60)\n",
    "\n",
    "recommendations = [\n",
    "    {\n",
    "        'Category': 'Algorithm Selection',\n",
    "        'Recommendation': 'Use Isolation Forest for high-dimensional data',\n",
    "        'Reason': 'Performs well with many features and is computationally efficient'\n",
    "    },\n",
    "    {\n",
    "        'Category': 'Algorithm Selection',\n",
    "        'Recommendation': 'Use LOF for local density variations',\n",
    "        'Reason': 'Excellent for datasets with varying densities'\n",
    "    },\n",
    "    {\n",
    "        'Category': 'Preprocessing',\n",
    "        'Recommendation': 'Always standardize features',\n",
    "        'Reason': 'Distance-based methods are sensitive to scale'\n",
    "    },\n",
    "    {\n",
    "        'Category': 'Evaluation',\n",
    "        'Recommendation': 'Use F1 Score and Balanced Accuracy',\n",
    "        'Reason': 'Better metrics for imbalanced datasets than accuracy'\n",
    "    },\n",
    "    {\n",
    "        'Category': 'Business',\n",
    "        'Recommendation': 'Set contamination based on business constraints',\n",
    "        'Reason': 'Balance between catching anomalies and investigation costs'\n",
    "    },\n",
    "    {\n",
    "        'Category': 'Production',\n",
    "        'Recommendation': 'Use ensemble methods for critical applications',\n",
    "        'Reason': 'More robust and reduces false positives'\n",
    "    }\n",
    "]\n",
    "\n",
    "rec_df = pd.DataFrame(recommendations)\n",
    "for category in rec_df['Category'].unique():\n",
    "    print(f\"\\n📌 {category}:\")\n",
    "    category_recs = rec_df[rec_df['Category'] == category]\n",
    "    for _, row in category_recs.iterrows():\n",
    "        print(f\"   • {row['Recommendation']}\")\n",
    "        print(f\"     → {row['Reason']}\")"
   ]
  },
  {
   "cell_type": "code",
   "execution_count": 75,
   "metadata": {},
   "outputs": [
    {
     "name": "stdout",
     "output_type": "stream",
     "text": [
      "✅ Models and results saved successfully!\n",
      "\n",
      "📁 Files created:\n",
      "   • best_anomaly_detector.pkl - Trained Isolation Forest model\n",
      "   • feature_scaler.pkl - StandardScaler for data preprocessing\n",
      "   • anomaly_detection_results.csv - Detection results for all vehicles\n",
      "   • algorithm_performance_comparison.csv - Performance metrics for all algorithms\n",
      "   • model_summary.json - Summary of best model performance\n",
      "\n",
      "🎯 Model Summary:\n",
      "   Best Algorithm: IForest\n",
      "   Best F1 Score: 1.0\n",
      "   Best Balanced Accuracy: 1.0\n",
      "   Total Samples: 10000\n",
      "   Anomalies Detected: 500\n",
      "   True Anomalies: 500\n",
      "   Detection Rate: 100.0%\n",
      "   False Alarm Rate: 0.0%\n",
      "\n",
      "🎉 Anomaly Detection Analysis Complete!\n",
      "\n",
      "📚 Key Learnings from this Session:\n",
      "==================================================\n",
      "✓ Anomaly detection is crucial for proactive warranty cost management\n",
      "✓ Different algorithms have different strengths (speed vs accuracy vs interpretability)\n",
      "✓ F1-Score and Balanced Accuracy are essential metrics for imbalanced data\n",
      "✓ Business context determines the choice of detection threshold\n",
      "✓ Ensemble methods can improve robustness in production systems\n",
      "✓ Semi-supervised learning can leverage unlabeled data effectively\n",
      "✓ Explainable AI helps build trust and actionable insights\n",
      "\n",
      "Thank you for participating in this hands-on anomaly detection session!\n"
     ]
    }
   ],
   "source": [
    "# Save the best model and results\n",
    "import joblib\n",
    "import json\n",
    "import numpy as np\n",
    "\n",
    "# Save the best detector and scaler\n",
    "best_detector = iforest_detector  # Based on our analysis\n",
    "joblib.dump(best_detector, 'best_anomaly_detector.pkl')\n",
    "joblib.dump(scaler, 'feature_scaler.pkl')\n",
    "\n",
    "# Save results summary with all relevant information\n",
    "results_summary = df[['vehicle_id', 'is_anomaly', 'predicted_anomaly', 'anomaly_score', 'anomaly_type']].copy()\n",
    "results_summary.to_csv('anomaly_detection_results.csv', index=False)\n",
    "\n",
    "# Save algorithm comparison results\n",
    "metrics_df.to_csv('algorithm_performance_comparison.csv', index=False)\n",
    "\n",
    "# Create a model summary report with proper type conversion for JSON\n",
    "model_summary = {\n",
    "    'Best Algorithm': str(best_model),\n",
    "    'Best F1 Score': float(metrics_df.iloc[0]['F1_Score']),\n",
    "    'Best Balanced Accuracy': float(metrics_df.iloc[0]['Balanced_Accuracy']),\n",
    "    'Total Samples': int(len(df)),\n",
    "    'Anomalies Detected': int((df['predicted_anomaly'] == 1).sum()),\n",
    "    'True Anomalies': int((df['is_anomaly'] == 1).sum()),\n",
    "    'Detection Rate': f\"{n_caught/(n_caught + n_missed)*100:.1f}%\" if (n_caught + n_missed) > 0 else \"N/A\",\n",
    "    'False Alarm Rate': f\"{n_false_alarms/(n_caught + n_false_alarms)*100:.1f}%\" if (n_caught + n_false_alarms) > 0 else \"N/A\"\n",
    "}\n",
    "\n",
    "# Save model summary as JSON\n",
    "with open('model_summary.json', 'w') as f:\n",
    "    json.dump(model_summary, f, indent=2)\n",
    "\n",
    "print(\"✅ Models and results saved successfully!\")\n",
    "print(\"\\n📁 Files created:\")\n",
    "print(\"   • best_anomaly_detector.pkl - Trained Isolation Forest model\")\n",
    "print(\"   • feature_scaler.pkl - StandardScaler for data preprocessing\")\n",
    "print(\"   • anomaly_detection_results.csv - Detection results for all vehicles\")\n",
    "print(\"   • algorithm_performance_comparison.csv - Performance metrics for all algorithms\")\n",
    "print(\"   • model_summary.json - Summary of best model performance\")\n",
    "\n",
    "print(f\"\\n🎯 Model Summary:\")\n",
    "for key, value in model_summary.items():\n",
    "    print(f\"   {key}: {value}\")\n",
    "\n",
    "print(\"\\n🎉 Anomaly Detection Analysis Complete!\")\n",
    "print(\"\\n📚 Key Learnings from this Session:\")\n",
    "print(\"=\"*50)\n",
    "print(\"✓ Anomaly detection is crucial for proactive warranty cost management\")\n",
    "print(\"✓ Different algorithms have different strengths (speed vs accuracy vs interpretability)\")\n",
    "print(\"✓ F1-Score and Balanced Accuracy are essential metrics for imbalanced data\")\n",
    "print(\"✓ Business context determines the choice of detection threshold\")\n",
    "print(\"✓ Ensemble methods can improve robustness in production systems\")\n",
    "print(\"✓ Semi-supervised learning can leverage unlabeled data effectively\")\n",
    "print(\"✓ Explainable AI helps build trust and actionable insights\")\n",
    "print(\"\\nThank you for participating in this hands-on anomaly detection session!\")"
   ]
  }
 ],
 "metadata": {
  "kernelspec": {
   "display_name": "vw_series_satya",
   "language": "python",
   "name": "python3"
  },
  "language_info": {
   "codemirror_mode": {
    "name": "ipython",
    "version": 3
   },
   "file_extension": ".py",
   "mimetype": "text/x-python",
   "name": "python",
   "nbconvert_exporter": "python",
   "pygments_lexer": "ipython3",
   "version": "3.11.13"
  }
 },
 "nbformat": 4,
 "nbformat_minor": 4
}
